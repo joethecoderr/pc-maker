{
  "nbformat": 4,
  "nbformat_minor": 0,
  "metadata": {
    "colab": {
      "name": "PC_Maker_web_scraping.ipynb",
      "provenance": [],
      "collapsed_sections": []
    },
    "kernelspec": {
      "name": "python3",
      "display_name": "Python 3"
    }
  },
  "cells": [
    {
      "cell_type": "markdown",
      "metadata": {
        "id": "wRUQAx7A3tmL"
      },
      "source": [
        "We want to obtain the requeriments of some games, as well as the description.\r\n",
        "\r\n",
        "We'll scraping info from steam."
      ]
    },
    {
      "cell_type": "markdown",
      "metadata": {
        "id": "RdVkfVoE3-of"
      },
      "source": [
        "# Cyberpunk 2077"
      ]
    },
    {
      "cell_type": "code",
      "metadata": {
        "id": "xe1GYdhc3CqD"
      },
      "source": [
        "import requests \r\n",
        "from urllib.request import urlopen\r\n",
        "from lxml import etree"
      ],
      "execution_count": 33,
      "outputs": []
    },
    {
      "cell_type": "code",
      "metadata": {
        "id": "jV1gBKtX42ni"
      },
      "source": [
        "# get html from site and write to local file\r\n",
        "url = \"https://store.steampowered.com/app/1091500/Cyberpunk_2077/\"\r\n",
        "headers = {'Content-Type': 'text/html',}\r\n",
        "response = requests.get(url, headers=headers)\r\n",
        "raw_html = response.text\r\n",
        "html = etree.HTML(raw_html)\r\n"
      ],
      "execution_count": 34,
      "outputs": []
    },
    {
      "cell_type": "markdown",
      "metadata": {
        "id": "N1dORT0-EN9p"
      },
      "source": [
        "* Look For Description"
      ]
    },
    {
      "cell_type": "code",
      "metadata": {
        "id": "o2x2MqxW5eQ6"
      },
      "source": [
        "xpath_for_description = \"//div[(@id = 'game_area_description') and not(contains(text(), '\\r')) ]/text()\"\r\n"
      ],
      "execution_count": 35,
      "outputs": []
    },
    {
      "cell_type": "code",
      "metadata": {
        "id": "HNxVNb9x6jE7"
      },
      "source": [
        "description_txt = html.xpath(xpath_for_description)"
      ],
      "execution_count": 36,
      "outputs": []
    },
    {
      "cell_type": "code",
      "metadata": {
        "colab": {
          "base_uri": "https://localhost:8080/"
        },
        "id": "7_bPfpKc6rEL",
        "outputId": "d2e42dbf-3d2c-4884-e23c-7ad4a08186a5"
      },
      "source": [
        "description_txt"
      ],
      "execution_count": 37,
      "outputs": [
        {
          "output_type": "execute_result",
          "data": {
            "text/plain": [
              "[]"
            ]
          },
          "metadata": {
            "tags": []
          },
          "execution_count": 37
        }
      ]
    },
    {
      "cell_type": "markdown",
      "metadata": {
        "id": "snPJ19ceER7B"
      },
      "source": [
        "* Look for minimum requierments"
      ]
    },
    {
      "cell_type": "code",
      "metadata": {
        "id": "doS3oLxO7pta"
      },
      "source": [
        "xpath_for_min_req_strongs = \"//div[(@class = 'game_area_sys_req_leftCol')]/ul/ul//strong/text()\"\r\n",
        "xpath_for_min_req = \"//div[(@class = 'game_area_sys_req_leftCol')]/ul/ul/li[strong]/text()\" #With [] we say to look for those li with strong"
      ],
      "execution_count": 38,
      "outputs": []
    },
    {
      "cell_type": "code",
      "metadata": {
        "id": "QQmOK62J8sCC"
      },
      "source": [
        "min_req_strongs = html.xpath(xpath_for_min_req_strongs)\r\n",
        "min_req_txt = html.xpath(xpath_for_min_req)\r\n"
      ],
      "execution_count": 39,
      "outputs": []
    },
    {
      "cell_type": "code",
      "metadata": {
        "colab": {
          "base_uri": "https://localhost:8080/"
        },
        "id": "_4G8VhNDBwrK",
        "outputId": "d0127b9d-7909-457d-be2a-b7dc3341c72d"
      },
      "source": [
        "min_req_strongs"
      ],
      "execution_count": 40,
      "outputs": [
        {
          "output_type": "execute_result",
          "data": {
            "text/plain": [
              "['OS:',\n",
              " 'Processor:',\n",
              " 'Memory:',\n",
              " 'Graphics:',\n",
              " 'DirectX:',\n",
              " 'Storage:',\n",
              " 'Additional Notes:']"
            ]
          },
          "metadata": {
            "tags": []
          },
          "execution_count": 40
        }
      ]
    },
    {
      "cell_type": "code",
      "metadata": {
        "colab": {
          "base_uri": "https://localhost:8080/"
        },
        "id": "LpruvAML8yvy",
        "outputId": "d662a011-c9b9-4e89-a2b1-77e206f0d69c"
      },
      "source": [
        "min_req_txt"
      ],
      "execution_count": 41,
      "outputs": [
        {
          "output_type": "execute_result",
          "data": {
            "text/plain": [
              "[' Windows 7 or 10',\n",
              " ' Intel Core i5-3570K or AMD FX-8310',\n",
              " ' 8 GB RAM',\n",
              " ' NVIDIA GeForce GTX 780 or AMD Radeon RX 470',\n",
              " ' Version 12',\n",
              " ' 70 GB available space',\n",
              " ' In this game you will encounter a variety of visual effects that may provide seizures or loss of consciousness in a minority of people. If you or someone you know experiences any of the above symptoms while playing, stop and seek medical attention immediately.']"
            ]
          },
          "metadata": {
            "tags": []
          },
          "execution_count": 41
        }
      ]
    },
    {
      "cell_type": "markdown",
      "metadata": {
        "id": "fJxVLZMNEedZ"
      },
      "source": [
        "* Look for recommended  requierments"
      ]
    },
    {
      "cell_type": "code",
      "metadata": {
        "id": "5pVSWv-6D-7R"
      },
      "source": [
        "xpath_for_recommended_req_strongs = \"//div[(@class='game_area_sys_req_rightCol')]/ul/ul//strong/text()\"\r\n",
        "xpath_for_recommended_req = \"//div[(@class='game_area_sys_req_rightCol')]/ul/ul/li[strong]/text()\" #With [] we say to look for those li with strong"
      ],
      "execution_count": 42,
      "outputs": []
    },
    {
      "cell_type": "code",
      "metadata": {
        "id": "i5ehb7A7E8oh"
      },
      "source": [
        "recommended_req_strongs = html.xpath(xpath_for_recommended_req_strongs)\r\n",
        "recommended_req_txt = html.xpath(xpath_for_recommended_req)"
      ],
      "execution_count": 43,
      "outputs": []
    },
    {
      "cell_type": "code",
      "metadata": {
        "colab": {
          "base_uri": "https://localhost:8080/"
        },
        "id": "ap9P9Xf8FJzJ",
        "outputId": "2cbd6543-1e5c-4995-806f-f2499b110e3c"
      },
      "source": [
        "recommended_req_strongs"
      ],
      "execution_count": 44,
      "outputs": [
        {
          "output_type": "execute_result",
          "data": {
            "text/plain": [
              "['OS:',\n",
              " 'Processor:',\n",
              " 'Memory:',\n",
              " 'Graphics:',\n",
              " 'DirectX:',\n",
              " 'Storage:',\n",
              " 'Additional Notes:']"
            ]
          },
          "metadata": {
            "tags": []
          },
          "execution_count": 44
        }
      ]
    },
    {
      "cell_type": "code",
      "metadata": {
        "colab": {
          "base_uri": "https://localhost:8080/"
        },
        "id": "fEncK0I5FLyR",
        "outputId": "18c8607b-1f41-45bd-d675-cbb284f2fd16"
      },
      "source": [
        "recommended_req_txt"
      ],
      "execution_count": 45,
      "outputs": [
        {
          "output_type": "execute_result",
          "data": {
            "text/plain": [
              "[' Windows 10',\n",
              " ' Intel Core i7-4790 or AMD Ryzen 3 3200G',\n",
              " ' 12 GB RAM',\n",
              " ' GTX 1060 6GB / GTX 1660 Super or Radeon RX 590',\n",
              " ' Version 12',\n",
              " ' 70 GB available space',\n",
              " ' SSD recommended']"
            ]
          },
          "metadata": {
            "tags": []
          },
          "execution_count": 45
        }
      ]
    },
    {
      "cell_type": "code",
      "metadata": {
        "id": "M0ILe6XujoLK"
      },
      "source": [
        "merged_list_min = [(min_req_strongs[i], min_req_txt[i]) for i in range(0, len(min_req_strongs))]"
      ],
      "execution_count": 46,
      "outputs": []
    },
    {
      "cell_type": "code",
      "metadata": {
        "colab": {
          "base_uri": "https://localhost:8080/"
        },
        "id": "Qo9Zc0erjwjK",
        "outputId": "6a9e05b8-88f1-46b2-c474-cd61199ea12c"
      },
      "source": [
        "merged_list_min"
      ],
      "execution_count": 47,
      "outputs": [
        {
          "output_type": "execute_result",
          "data": {
            "text/plain": [
              "[('OS:', ' Windows 7 or 10'),\n",
              " ('Processor:', ' Intel Core i5-3570K or AMD FX-8310'),\n",
              " ('Memory:', ' 8 GB RAM'),\n",
              " ('Graphics:', ' NVIDIA GeForce GTX 780 or AMD Radeon RX 470'),\n",
              " ('DirectX:', ' Version 12'),\n",
              " ('Storage:', ' 70 GB available space'),\n",
              " ('Additional Notes:',\n",
              "  ' In this game you will encounter a variety of visual effects that may provide seizures or loss of consciousness in a minority of people. If you or someone you know experiences any of the above symptoms while playing, stop and seek medical attention immediately.')]"
            ]
          },
          "metadata": {
            "tags": []
          },
          "execution_count": 47
        }
      ]
    },
    {
      "cell_type": "code",
      "metadata": {
        "id": "taWCcrFwknoR"
      },
      "source": [
        "import numpy as np \r\n",
        "merged_arr_min =np.array(merged_list_min)"
      ],
      "execution_count": 48,
      "outputs": []
    },
    {
      "cell_type": "code",
      "metadata": {
        "colab": {
          "base_uri": "https://localhost:8080/"
        },
        "id": "8s1t_EJSk9UB",
        "outputId": "680e2c14-ab87-4539-ca05-a5fe5a4e6cb1"
      },
      "source": [
        "merged_arr_min.shape"
      ],
      "execution_count": 49,
      "outputs": [
        {
          "output_type": "execute_result",
          "data": {
            "text/plain": [
              "(7, 2)"
            ]
          },
          "metadata": {
            "tags": []
          },
          "execution_count": 49
        }
      ]
    },
    {
      "cell_type": "code",
      "metadata": {
        "id": "cdpCSuqXlEqo"
      },
      "source": [
        "merged_list_rec = [(recommended_req_strongs[i], recommended_req_txt[i]) for i in range(0, len(recommended_req_strongs))  ]\r\n",
        "merged_arr_recommended = np.array(merged_list_rec)"
      ],
      "execution_count": 50,
      "outputs": []
    },
    {
      "cell_type": "code",
      "metadata": {
        "colab": {
          "base_uri": "https://localhost:8080/"
        },
        "id": "zPy-rpqZlZpQ",
        "outputId": "9d38ab2b-c540-49cc-cd6e-abfa48e11a83"
      },
      "source": [
        "merged_arr_recommended"
      ],
      "execution_count": 51,
      "outputs": [
        {
          "output_type": "execute_result",
          "data": {
            "text/plain": [
              "array([['OS:', ' Windows 10'],\n",
              "       ['Processor:', ' Intel Core i7-4790 or AMD Ryzen 3 3200G'],\n",
              "       ['Memory:', ' 12 GB RAM'],\n",
              "       ['Graphics:', ' GTX 1060 6GB / GTX 1660 Super or Radeon RX 590'],\n",
              "       ['DirectX:', ' Version 12'],\n",
              "       ['Storage:', ' 70 GB available space'],\n",
              "       ['Additional Notes:', ' SSD recommended']], dtype='<U47')"
            ]
          },
          "metadata": {
            "tags": []
          },
          "execution_count": 51
        }
      ]
    },
    {
      "cell_type": "code",
      "metadata": {
        "colab": {
          "base_uri": "https://localhost:8080/"
        },
        "id": "E1F9Rwjep70b",
        "outputId": "749eb824-7878-480d-8038-71b03d4f58c6"
      },
      "source": [
        "!pip install selenium"
      ],
      "execution_count": 52,
      "outputs": [
        {
          "output_type": "stream",
          "text": [
            "Requirement already satisfied: selenium in /usr/local/lib/python3.6/dist-packages (3.141.0)\n",
            "Requirement already satisfied: urllib3 in /usr/local/lib/python3.6/dist-packages (from selenium) (1.24.3)\n"
          ],
          "name": "stdout"
        }
      ]
    },
    {
      "cell_type": "code",
      "metadata": {
        "colab": {
          "base_uri": "https://localhost:8080/"
        },
        "id": "SKR5sdRhuLd0",
        "outputId": "78370689-4e36-44a9-ecfb-51b510178628"
      },
      "source": [
        "!apt install chromium-chromedriver"
      ],
      "execution_count": 53,
      "outputs": [
        {
          "output_type": "stream",
          "text": [
            "Reading package lists... Done\n",
            "Building dependency tree       \n",
            "Reading state information... Done\n",
            "chromium-chromedriver is already the newest version (87.0.4280.66-0ubuntu0.18.04.1).\n",
            "0 upgraded, 0 newly installed, 0 to remove and 14 not upgraded.\n"
          ],
          "name": "stdout"
        }
      ]
    },
    {
      "cell_type": "code",
      "metadata": {
        "id": "RIL0kx7uuKHt"
      },
      "source": [
        "import sys"
      ],
      "execution_count": 65,
      "outputs": []
    },
    {
      "cell_type": "code",
      "metadata": {
        "id": "l0AAq0wMuQYc"
      },
      "source": [
        "sys.path.insert(0,'/usr/lib/chromium-browser/chromedriver')"
      ],
      "execution_count": 66,
      "outputs": []
    },
    {
      "cell_type": "code",
      "metadata": {
        "id": "jeFT7MN1qPlh"
      },
      "source": [
        "from selenium import webdriver\r\n",
        "from selenium.webdriver.common.keys import Keys\r\n",
        "from selenium.webdriver.support.ui import Select\r\n",
        "import time\r\n",
        "#from webdriver_manager.firefox import GeckoDriverManager"
      ],
      "execution_count": 222,
      "outputs": []
    },
    {
      "cell_type": "code",
      "metadata": {
        "id": "jW82mqm0uclM"
      },
      "source": [
        "chrome_options = webdriver.ChromeOptions()\r\n",
        "chrome_options.add_argument('--headless')\r\n",
        "chrome_options.add_argument('--no-sandbox')\r\n",
        "chrome_options.add_argument('--disable-dev-shm-usage')"
      ],
      "execution_count": 68,
      "outputs": []
    },
    {
      "cell_type": "code",
      "metadata": {
        "id": "_Ea2OCHp8RiF"
      },
      "source": [
        "def get_page_link_from_steam(game):\r\n",
        "  print(f\"Getting page for {game} ...\"  )\r\n",
        "  driver = webdriver.Chrome('chromedriver',chrome_options=chrome_options)\r\n",
        "  driver.get(\"https://store.steampowered.com/\")\r\n",
        "  assert \"Steam\" in driver.title #assert is for debugging, if the condition is false, AssertionError is raised. \r\n",
        "  #Here we are using it to confirm that the title has \"Steam\".\r\n",
        "  elem = driver.find_element_by_id(\"store_nav_search_term\")\r\n",
        "  elem.clear()\r\n",
        "  elem.send_keys(game)\r\n",
        "  elem.send_keys(Keys.ENTER)\r\n",
        "\r\n",
        " # print(driver.page_source)\r\n",
        " \r\n",
        "  driver.find_element_by_xpath(\"//div[(@id = 'search_resultsRows')]/a[1]\").click()\r\n",
        "  source_str =  str(driver.page_source)\r\n",
        "   #If not appropiate for all ages\r\n",
        "  #print(source_str)\r\n",
        "  if \"View Page\" in source_str:\r\n",
        "    print(\"entered\")\r\n",
        "\r\n",
        "    #Specify the age\r\n",
        "    element = driver.find_element_by_xpath(\"//select[@name='ageYear']\")\r\n",
        "    all_options = element.find_elements_by_tag_name(\"option\")\r\n",
        "    for option in all_options:\r\n",
        "      #print(\"Value is: %s\" % option.get_attribute(\"value\"))\r\n",
        "      if  option.get_attribute(\"value\") == '1900':\r\n",
        "        print(\"clicked\")\r\n",
        "        option.click()\r\n",
        "        \r\n",
        "\r\n",
        "    driver.find_element_by_xpath(\"//div[(@class = 'main_content_ctn')]/div[@class = 'agegate_text_container btns']/a[1]\").click() \r\n",
        "    time.sleep(1)\r\n",
        "  return driver.current_url\r\n",
        "  \r\n"
      ],
      "execution_count": 227,
      "outputs": []
    },
    {
      "cell_type": "markdown",
      "metadata": {
        "id": "OpQiOyYLvhnp"
      },
      "source": [
        "* Once we have the link that we need, let's scrap the page as we did it before.\r\n"
      ]
    },
    {
      "cell_type": "code",
      "metadata": {
        "id": "YVqATBv_vvO4"
      },
      "source": [
        "def scrap_page_steam(link_path):\r\n",
        "  print(f\"Scraping {link_path} ...\"  )\r\n",
        "  headers = {'Content-Type': 'text/html',}\r\n",
        "  response = requests.get(link_path, headers=headers)\r\n",
        "  raw_html = response.text\r\n",
        "  html = etree.HTML(raw_html)\r\n",
        "\r\n",
        "#Get description\r\n",
        "  xpath_for_description = \"//div[(@id = 'game_area_description')]/text()\"\r\n",
        "  description_txt = html.xpath(xpath_for_description)\r\n",
        "\r\n",
        "#Get Minimum Requirements\r\n",
        "  xpath_for_min_req_strongs = \"//div[(@class = 'game_area_sys_req_leftCol')]/ul/ul//strong/text()\"\r\n",
        "  xpath_for_min_req = \"//div[(@class = 'game_area_sys_req_leftCol')]/ul/ul/li[strong]/text()\" #With [] we say to look for those li with strong\r\n",
        "  min_req_strongs = html.xpath(xpath_for_min_req_strongs)\r\n",
        "  min_req_txt = html.xpath(xpath_for_min_req)\r\n",
        "\r\n",
        "#Get Recommended Requirements\r\n",
        "  xpath_for_recommended_req_strongs = \"//div[(@class='game_area_sys_req_rightCol')]/ul/ul//strong/text()\"\r\n",
        "  xpath_for_recommended_req = \"//div[(@class='game_area_sys_req_rightCol')]/ul/ul/li[strong]/text()\" #With [] we say to look for those li with strong\r\n",
        "  recommended_req_strongs = html.xpath(xpath_for_recommended_req_strongs)\r\n",
        "  recommended_req_txt = html.xpath(xpath_for_recommended_req)\r\n",
        "\r\n",
        "#Merge strongs and text in the same array\r\n",
        "  merged_list_min = [(min_req_strongs[i], min_req_txt[i]) for i in range(0, len(min_req_strongs))]\r\n",
        "  merged_arr_min =np.array(merged_list_min)\r\n",
        "\r\n",
        "  merged_list_rec = [(recommended_req_strongs[i], recommended_req_txt[i]) for i in range(0, len(recommended_req_strongs)) ]\r\n",
        "  merged_arr_recommended = np.array(merged_list_rec)\r\n",
        "\r\n",
        "  return description_txt, merged_arr_min, merged_arr_recommended"
      ],
      "execution_count": 108,
      "outputs": []
    },
    {
      "cell_type": "code",
      "metadata": {
        "colab": {
          "base_uri": "https://localhost:8080/",
          "height": 120
        },
        "id": "2wCk5R0i8lIF",
        "outputId": "f7cd0f13-687c-4a42-a21f-243ec425e0cd"
      },
      "source": [
        "page_to_scrap = get_page_link_from_steam('hellblade')\r\n",
        "page_to_scrap\r\n"
      ],
      "execution_count": 229,
      "outputs": [
        {
          "output_type": "stream",
          "text": [
            "Getting page for hellblade ...\n"
          ],
          "name": "stdout"
        },
        {
          "output_type": "stream",
          "text": [
            "/usr/local/lib/python3.6/dist-packages/ipykernel_launcher.py:3: DeprecationWarning: use options instead of chrome_options\n",
            "  This is separate from the ipykernel package so we can avoid doing imports until\n"
          ],
          "name": "stderr"
        },
        {
          "output_type": "stream",
          "text": [
            "entered\n",
            "clicked\n"
          ],
          "name": "stdout"
        },
        {
          "output_type": "execute_result",
          "data": {
            "application/vnd.google.colaboratory.intrinsic+json": {
              "type": "string"
            },
            "text/plain": [
              "'https://store.steampowered.com/app/414340/Hellblade_Senuas_Sacrifice/'"
            ]
          },
          "metadata": {
            "tags": []
          },
          "execution_count": 229
        }
      ]
    },
    {
      "cell_type": "code",
      "metadata": {
        "colab": {
          "base_uri": "https://localhost:8080/",
          "height": 35
        },
        "id": "DWfev-eZaAor",
        "outputId": "beabc42a-b2e5-4a94-b709-b227d017a612"
      },
      "source": [
        "page_to_scrap"
      ],
      "execution_count": 216,
      "outputs": [
        {
          "output_type": "execute_result",
          "data": {
            "application/vnd.google.colaboratory.intrinsic+json": {
              "type": "string"
            },
            "text/plain": [
              "'https://store.steampowered.com/agecheck/app/1091500/#'"
            ]
          },
          "metadata": {
            "tags": []
          },
          "execution_count": 216
        }
      ]
    },
    {
      "cell_type": "code",
      "metadata": {
        "colab": {
          "base_uri": "https://localhost:8080/"
        },
        "id": "t_9HmvKD3UP7",
        "outputId": "e65a886e-ad31-4be5-b286-8f46da59f501"
      },
      "source": [
        "descr, min, recommended = scrap_page_steam(page_to_scrap)"
      ],
      "execution_count": 110,
      "outputs": [
        {
          "output_type": "stream",
          "text": [
            "Scraping https://store.steampowered.com/app/582010/Monster_Hunter_World/ ...\n"
          ],
          "name": "stdout"
        }
      ]
    },
    {
      "cell_type": "code",
      "metadata": {
        "colab": {
          "base_uri": "https://localhost:8080/"
        },
        "id": "bp6VkMiH3akz",
        "outputId": "566ea1e8-56c1-42e0-dbcf-4ce40c20343d"
      },
      "source": [
        "descr"
      ],
      "execution_count": 111,
      "outputs": [
        {
          "output_type": "execute_result",
          "data": {
            "text/plain": [
              "['\\r\\n\\t\\t\\t\\t\\t\\t\\t',\n",
              " '\\r\\n\\t\\t\\t\\t\\t\\t\\tWelcome to a new world! Take on the role of a hunter and slay ferocious monsters in a living, breathing ecosystem where you can use the landscape and its diverse inhabitants to get the upper hand. Hunt alone or in co-op with up to three other players, and use materials collected from fallen foes to craft new gear and take on even bigger, badder beasts!',\n",
              " \"As a hunter, you'll take on quests to hunt monsters in a variety of habitats.\",\n",
              " 'Take down these monsters and receive materials that you can use to create stronger weapons and armor in order to hunt even more dangerous monsters.',\n",
              " 'In Monster Hunter: World, the latest installment in the series, you can enjoy the ultimate hunting experience, using everything at your disposal to hunt monsters in a new world teeming with surprises and excitement.',\n",
              " 'Once every decade, elder dragons trek across the sea to travel to the land known as the New World in a migration referred to as the Elder Crossing.',\n",
              " 'To get to the bottom of this mysterious phenomenon, the Guild has formed the Research Commission, dispatching them in large fleets to the New World.',\n",
              " 'As the Commission sends its Fifth Fleet in pursuit of the colossal elder dragon, Zorah Magdaros, one hunter is about to embark on a journey grander than anything they could have ever imagined.',\n",
              " 'There are various locations teeming with wildlife. Expeditions into these locales are bound to turn up interesting discoveries.',\n",
              " 'Your equipment will give you the power to need to carve out a place for yourself in the New World.',\n",
              " \"There are fourteen different weapons at the hunter's disposal, each with its own unique characteristics and attacks. Many hunters acquire proficiency in multiple types, while others prefer to attain mastery of one.\",\n",
              " 'Monster tracks, such as footprints and gashes, dot each locale. Your Scoutflies will remember the scent of a monster and guide you to other nearby tracks. And as you gather more tracks, the Scoutflies will give you even more information.',\n",
              " 'The Slinger is an indispensable tool for a hunter, allowing you to arm yourself with stones and nuts that can be gathered from each locale.',\n",
              " 'From diversion tactics to creating shortcuts, the Slinger has a variety of uses, and allows you to hunt in new and interesting ways.',\n",
              " 'Specialized tools activate powerful effects for a limited amount of time, and up to two can be equipped at a time. Simple to use, they can be selected and activated just like any other item you take out on a hunt.',\n",
              " \"Palicoes are hunters' reliable comrades out in the field, specialized in a variety of offensive, defensive, and restorative support abilities.\",\n",
              " \"The hunter's Palico joins the Fifth Fleet with pride, as much a bona fide member of the Commission as any other hunter.\",\n",
              " '\\t\\t\\t\\t\\t\\t']"
            ]
          },
          "metadata": {
            "tags": []
          },
          "execution_count": 111
        }
      ]
    },
    {
      "cell_type": "code",
      "metadata": {
        "colab": {
          "base_uri": "https://localhost:8080/"
        },
        "id": "TTmf_pc83cL7",
        "outputId": "e3962daf-5287-4fe8-9c68-b2cdb880a03b"
      },
      "source": [
        "min"
      ],
      "execution_count": 105,
      "outputs": [
        {
          "output_type": "execute_result",
          "data": {
            "text/plain": [
              "array([['OS:', ' WINDOWS® 7, 8, 8.1, 10 (64-bit required)'],\n",
              "       ['Processor:', ' Intel® Core™ i5-4460, 3.20GHz or AMD FX™-6300'],\n",
              "       ['Memory:', ' 8 GB RAM'],\n",
              "       ['Graphics:',\n",
              "        ' NVIDIA® GeForce® GTX 760 or AMD Radeon™ R7 260x (VRAM 2GB)'],\n",
              "       ['DirectX:', ' Version 11'],\n",
              "       ['Network:', ' Broadband Internet connection'],\n",
              "       ['Storage:', ' 48 GB available space'],\n",
              "       ['Sound Card:', ' DirectSound (DirectX® 9.0c)'],\n",
              "       ['Additional Notes:',\n",
              "        ' 1080p/30fps when graphics settings are set to \"Low\"']],\n",
              "      dtype='<U59')"
            ]
          },
          "metadata": {
            "tags": []
          },
          "execution_count": 105
        }
      ]
    },
    {
      "cell_type": "code",
      "metadata": {
        "colab": {
          "base_uri": "https://localhost:8080/"
        },
        "id": "m6BDqeoW3db8",
        "outputId": "a4a5ff26-8355-4a08-92b2-274210249a1b"
      },
      "source": [
        "recommended"
      ],
      "execution_count": 106,
      "outputs": [
        {
          "output_type": "execute_result",
          "data": {
            "text/plain": [
              "array([['OS:', ' WINDOWS® 7, 8, 8.1, 10 (64-bit required)'],\n",
              "       ['Processor:',\n",
              "        ' Intel® Core™ i7 3770 3.4GHz or Intel® Core™ i3 8350 4GHz or AMD Ryzen™ 5 1500X'],\n",
              "       ['Memory:', ' 8 GB RAM'],\n",
              "       ['Graphics:',\n",
              "        ' NVIDIA® GeForce® GTX 1060 (VRAM 3GB) or AMD Radeon™ RX 570  (VRAM 4GB)'],\n",
              "       ['DirectX:', ' Version 11'],\n",
              "       ['Network:', ' Broadband Internet connection'],\n",
              "       ['Storage:', ' 48 GB available space'],\n",
              "       ['Sound Card:', ' DirectSound (DirectX® 9.0c or better)'],\n",
              "       ['Additional Notes:',\n",
              "        ' 1080p/30fps when graphics settings are set to \"High\"']],\n",
              "      dtype='<U79')"
            ]
          },
          "metadata": {
            "tags": []
          },
          "execution_count": 106
        }
      ]
    },
    {
      "cell_type": "markdown",
      "metadata": {
        "id": "kw0KF5tzBhex"
      },
      "source": [
        "* Let's scrap pcgamebenchmark.com"
      ]
    },
    {
      "cell_type": "code",
      "metadata": {
        "id": "o6FGlVegBndj"
      },
      "source": [
        "def get_game_link_pcgbm(game):\r\n",
        "  print(f\"Getting page for {game} ...\"  )\r\n",
        "  driver = webdriver.Chrome('chromedriver',chrome_options=chrome_options)\r\n",
        "  driver.get(\"https://www.pcgamebenchmark.com/\")\r\n",
        "  assert \"PCGameBenchmark\" in driver.title #assert is for debugging, if the condition is false, AssertionError is raised. \r\n",
        "  #Here we are using it to confirm that the title has \"Steam\".\r\n",
        "  elem = driver.find_element_by_xpath(\"//form[(@id = 'search')]/span/input[@name = 'q']\")\r\n",
        "  elem.clear()\r\n",
        "  elem.send_keys(game)\r\n",
        "  elem.send_keys(Keys.ENTER)\r\n",
        " \r\n",
        "  #driver.find_element_by_xpath(\"//div[(@id = 'search_resultsRows')]/a[1]\").click()\r\n",
        "  #source_str =  str(driver.page_source)\r\n",
        "  print(driver.current_url)\r\n",
        "\r\n",
        "  \r\n",
        "  return driver.current_url\r\n",
        "  \r\n"
      ],
      "execution_count": 121,
      "outputs": []
    },
    {
      "cell_type": "code",
      "metadata": {
        "id": "oqx8IsY1ExDd"
      },
      "source": [
        "def scrap_from_pcgbm(game_url):\r\n",
        "  print(f\"Scraping {game_url} ...\"  )\r\n",
        "  headers = {'Content-Type': 'text/html',}\r\n",
        "  response = requests.get(game_url, headers=headers)\r\n",
        "  raw_html = response.text\r\n",
        "  html = etree.HTML(raw_html)\r\n",
        "\r\n",
        "#Get description\r\n",
        "  xpath_for_description = \"//div[(@id = 'details-meta')]/div[@class = 'description']/p/text()\"\r\n",
        "  description_txt = html.xpath(xpath_for_description)\r\n",
        "\r\n",
        "\r\n",
        "#Get Minimum Requirements\r\n",
        "  xpath_for_min_req_strongs = \"//div[(@class = 'row requirements')]/div[1]/ul/li/strong/text()\"\r\n",
        "  xpath_for_min_req = \"//div[(@class = 'row requirements')]/div[1]/ul/li[strong]/text()\" #With [] we say to look for those li with strong\r\n",
        "  min_req_strongs = html.xpath(xpath_for_min_req_strongs)\r\n",
        "  min_req_txt = html.xpath(xpath_for_min_req)\r\n",
        "\r\n",
        "#Get Recommended Requirements\r\n",
        "  xpath_for_recommended_req_strongs = \"//div[(@class = 'row requirements')]/div[2]/ul/li/strong/text()\"\r\n",
        "  xpath_for_recommended_req = \"//div[(@class = 'row requirements')]/div[2]/ul/li[strong]/text()\"#With [] we say to look for those li with strong\r\n",
        "  recommended_req_strongs = html.xpath(xpath_for_recommended_req_strongs)\r\n",
        "  recommended_req_txt = html.xpath(xpath_for_recommended_req)\r\n",
        "\r\n",
        "#Merge strongs and text in the same array\r\n",
        "  merged_list_min = [(min_req_strongs[i], min_req_txt[i]) for i in range(0, len(min_req_strongs))]\r\n",
        "  merged_arr_min =np.array(merged_list_min)\r\n",
        "\r\n",
        "  merged_list_rec = [(recommended_req_strongs[i], recommended_req_txt[i]) for i in range(0, len(recommended_req_strongs)) ]\r\n",
        "  merged_arr_recommended = np.array(merged_list_rec)\r\n",
        "\r\n",
        "\r\n",
        "  return description_txt, merged_arr_min, merged_arr_recommended"
      ],
      "execution_count": 173,
      "outputs": []
    },
    {
      "cell_type": "code",
      "metadata": {
        "colab": {
          "base_uri": "https://localhost:8080/"
        },
        "id": "X_JeeIISCm0w",
        "outputId": "f28a9464-73f6-48c9-affa-bb2d18ab0425"
      },
      "source": [
        "pcgbm_link = get_game_link_pcgbm('valorant')"
      ],
      "execution_count": 196,
      "outputs": [
        {
          "output_type": "stream",
          "text": [
            "Getting page for valorant ...\n"
          ],
          "name": "stdout"
        },
        {
          "output_type": "stream",
          "text": [
            "/usr/local/lib/python3.6/dist-packages/ipykernel_launcher.py:3: DeprecationWarning: use options instead of chrome_options\n",
            "  This is separate from the ipykernel package so we can avoid doing imports until\n"
          ],
          "name": "stderr"
        },
        {
          "output_type": "stream",
          "text": [
            "https://www.pcgamebenchmark.com/valorant-system-requirements\n"
          ],
          "name": "stdout"
        }
      ]
    },
    {
      "cell_type": "code",
      "metadata": {
        "colab": {
          "base_uri": "https://localhost:8080/"
        },
        "id": "WbKliS4bGMhM",
        "outputId": "b33db330-d1f5-4b5d-d4c6-c2f1cf6867a8"
      },
      "source": [
        "description_txt_pcgbm, min_req_pcgbm, recommended_req_pcgbm = scrap_from_pcgbm(pcgbm_link)"
      ],
      "execution_count": 190,
      "outputs": [
        {
          "output_type": "stream",
          "text": [
            "Scraping https://www.pcgamebenchmark.com/grand-theft-auto-v-system-requirements ...\n"
          ],
          "name": "stdout"
        }
      ]
    },
    {
      "cell_type": "code",
      "metadata": {
        "colab": {
          "base_uri": "https://localhost:8080/"
        },
        "id": "aL0uMMxUGoIQ",
        "outputId": "fff9c7de-f74d-453b-f152-b32b0822f88c"
      },
      "source": [
        "description_txt_pcgbm"
      ],
      "execution_count": 191,
      "outputs": [
        {
          "output_type": "execute_result",
          "data": {
            "text/plain": [
              "['Grand Theft Auto 5 for PC offers players the option to explore the award-winning world of Los Santos and Blaine County in resolutions of up to 4k and beyond, as well as the chance to experience the game running at 60 frames per second.']"
            ]
          },
          "metadata": {
            "tags": []
          },
          "execution_count": 191
        }
      ]
    },
    {
      "cell_type": "code",
      "metadata": {
        "colab": {
          "base_uri": "https://localhost:8080/"
        },
        "id": "7h2fNjfWRaot",
        "outputId": "1c002ac4-e241-4434-e8db-629eba126fa3"
      },
      "source": [
        "min_req_pcgbm"
      ],
      "execution_count": 192,
      "outputs": [
        {
          "output_type": "execute_result",
          "data": {
            "text/plain": [
              "array([['Memory:', '4 GB'],\n",
              "       ['Graphics Card:', 'NVIDIA GeForce 9800 GT'],\n",
              "       ['CPU:', 'AMD Phenom 9850'],\n",
              "       ['GTA 5 File Size:', '72 GB'],\n",
              "       ['OS:',\n",
              "        'Windows 10 64 Bit, Windows 8.1 64 Bit, Windows 8 64 Bit, Windows 7 64 Bit Service Pack 1']],\n",
              "      dtype='<U88')"
            ]
          },
          "metadata": {
            "tags": []
          },
          "execution_count": 192
        }
      ]
    },
    {
      "cell_type": "code",
      "metadata": {
        "colab": {
          "base_uri": "https://localhost:8080/"
        },
        "id": "8aqFClmGRfEv",
        "outputId": "c7206deb-17e2-4f6d-d34b-25f0fd31427f"
      },
      "source": [
        "recommended_req_pcgbm"
      ],
      "execution_count": 193,
      "outputs": [
        {
          "output_type": "execute_result",
          "data": {
            "text/plain": [
              "array([['Memory:', '8 GB'],\n",
              "       ['Graphics Card:', 'NVIDIA GeForce GTX 660'],\n",
              "       ['GTA 5 CPU:', 'Intel Core i5-3470'],\n",
              "       ['File Size:', '72 GB'],\n",
              "       ['OS:',\n",
              "        'Windows 10 64 Bit, Windows 8.1 64 Bit, Windows 8 64 Bit, Windows 7 64 Bit Service Pack 1']],\n",
              "      dtype='<U88')"
            ]
          },
          "metadata": {
            "tags": []
          },
          "execution_count": 193
        }
      ]
    }
  ]
}