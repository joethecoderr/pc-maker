{
  "nbformat": 4,
  "nbformat_minor": 0,
  "metadata": {
    "colab": {
      "name": "PC_Maker_web_scraping.ipynb",
      "provenance": [],
      "collapsed_sections": []
    },
    "kernelspec": {
      "name": "python3",
      "display_name": "Python 3"
    }
  },
  "cells": [
    {
      "cell_type": "markdown",
      "metadata": {
        "id": "wRUQAx7A3tmL"
      },
      "source": [
        "We want to obtain the requeriments of some games, as well as the description.\r\n",
        "\r\n",
        "We'll scraping info from steam."
      ]
    },
    {
      "cell_type": "markdown",
      "metadata": {
        "id": "RdVkfVoE3-of"
      },
      "source": [
        "# Cyberpunk 2077"
      ]
    },
    {
      "cell_type": "code",
      "metadata": {
        "id": "xe1GYdhc3CqD"
      },
      "source": [
        "import requests \r\n",
        "from urllib.request import urlopen\r\n",
        "from lxml import etree"
      ],
      "execution_count": 1,
      "outputs": []
    },
    {
      "cell_type": "code",
      "metadata": {
        "id": "jV1gBKtX42ni"
      },
      "source": [
        "# get html from site and write to local file\r\n",
        "url = \"https://store.steampowered.com/app/1091500/Cyberpunk_2077/\"\r\n",
        "headers = {'Content-Type': 'text/html',}\r\n",
        "response = requests.get(url, headers=headers)\r\n",
        "raw_html = response.text\r\n",
        "html = etree.HTML(raw_html)\r\n"
      ],
      "execution_count": 2,
      "outputs": []
    },
    {
      "cell_type": "markdown",
      "metadata": {
        "id": "N1dORT0-EN9p"
      },
      "source": [
        "* Look For Description"
      ]
    },
    {
      "cell_type": "code",
      "metadata": {
        "id": "o2x2MqxW5eQ6"
      },
      "source": [
        "xpath_for_description = \"//div[(@id = 'game_area_description') and not(contains(text(), '\\r')) ]/text()\"\r\n"
      ],
      "execution_count": 3,
      "outputs": []
    },
    {
      "cell_type": "code",
      "metadata": {
        "id": "HNxVNb9x6jE7"
      },
      "source": [
        "description_txt = html.xpath(xpath_for_description)"
      ],
      "execution_count": 4,
      "outputs": []
    },
    {
      "cell_type": "code",
      "metadata": {
        "colab": {
          "base_uri": "https://localhost:8080/"
        },
        "id": "7_bPfpKc6rEL",
        "outputId": "2d61816f-8285-4b61-a7ce-757101191108"
      },
      "source": [
        "description_txt"
      ],
      "execution_count": 5,
      "outputs": [
        {
          "output_type": "execute_result",
          "data": {
            "text/plain": [
              "[]"
            ]
          },
          "metadata": {
            "tags": []
          },
          "execution_count": 5
        }
      ]
    },
    {
      "cell_type": "markdown",
      "metadata": {
        "id": "snPJ19ceER7B"
      },
      "source": [
        "* Look for minimum requierments"
      ]
    },
    {
      "cell_type": "code",
      "metadata": {
        "id": "doS3oLxO7pta"
      },
      "source": [
        "xpath_for_min_req_strongs = \"//div[(@class = 'game_area_sys_req_leftCol')]/ul/ul//strong/text()\"\r\n",
        "xpath_for_min_req = \"//div[(@class = 'game_area_sys_req_leftCol')]/ul/ul/li[strong]/text()\" #With [] we say to look for those li with strong"
      ],
      "execution_count": 6,
      "outputs": []
    },
    {
      "cell_type": "code",
      "metadata": {
        "id": "QQmOK62J8sCC"
      },
      "source": [
        "min_req_strongs = html.xpath(xpath_for_min_req_strongs)\r\n",
        "min_req_txt = html.xpath(xpath_for_min_req)\r\n"
      ],
      "execution_count": 7,
      "outputs": []
    },
    {
      "cell_type": "code",
      "metadata": {
        "colab": {
          "base_uri": "https://localhost:8080/"
        },
        "id": "_4G8VhNDBwrK",
        "outputId": "234e6b62-b330-49aa-802e-8debf99e0883"
      },
      "source": [
        "min_req_strongs"
      ],
      "execution_count": 8,
      "outputs": [
        {
          "output_type": "execute_result",
          "data": {
            "text/plain": [
              "['OS:',\n",
              " 'Processor:',\n",
              " 'Memory:',\n",
              " 'Graphics:',\n",
              " 'DirectX:',\n",
              " 'Storage:',\n",
              " 'Additional Notes:']"
            ]
          },
          "metadata": {
            "tags": []
          },
          "execution_count": 8
        }
      ]
    },
    {
      "cell_type": "code",
      "metadata": {
        "colab": {
          "base_uri": "https://localhost:8080/"
        },
        "id": "LpruvAML8yvy",
        "outputId": "0d635c86-d0a0-44a8-a092-401332e4a44d"
      },
      "source": [
        "min_req_txt"
      ],
      "execution_count": 9,
      "outputs": [
        {
          "output_type": "execute_result",
          "data": {
            "text/plain": [
              "[' Windows 7 or 10',\n",
              " ' Intel Core i5-3570K or AMD FX-8310',\n",
              " ' 8 GB RAM',\n",
              " ' NVIDIA GeForce GTX 780 or AMD Radeon RX 470',\n",
              " ' Version 12',\n",
              " ' 70 GB available space',\n",
              " ' In this game you will encounter a variety of visual effects that may provide seizures or loss of consciousness in a minority of people. If you or someone you know experiences any of the above symptoms while playing, stop and seek medical attention immediately.']"
            ]
          },
          "metadata": {
            "tags": []
          },
          "execution_count": 9
        }
      ]
    },
    {
      "cell_type": "markdown",
      "metadata": {
        "id": "fJxVLZMNEedZ"
      },
      "source": [
        "* Look for recommended  requierments"
      ]
    },
    {
      "cell_type": "code",
      "metadata": {
        "id": "5pVSWv-6D-7R"
      },
      "source": [
        "xpath_for_recommended_req_strongs = \"//div[(@class='game_area_sys_req_rightCol')]/ul/ul//strong/text()\"\r\n",
        "xpath_for_recommended_req = \"//div[(@class='game_area_sys_req_rightCol')]/ul/ul/li[strong]/text()\" #With [] we say to look for those li with strong"
      ],
      "execution_count": 10,
      "outputs": []
    },
    {
      "cell_type": "code",
      "metadata": {
        "id": "i5ehb7A7E8oh"
      },
      "source": [
        "recommended_req_strongs = html.xpath(xpath_for_recommended_req_strongs)\r\n",
        "recommended_req_txt = html.xpath(xpath_for_recommended_req)"
      ],
      "execution_count": 11,
      "outputs": []
    },
    {
      "cell_type": "code",
      "metadata": {
        "colab": {
          "base_uri": "https://localhost:8080/"
        },
        "id": "ap9P9Xf8FJzJ",
        "outputId": "9b064722-2e88-469e-dee0-3d18dcb985d4"
      },
      "source": [
        "recommended_req_strongs"
      ],
      "execution_count": 12,
      "outputs": [
        {
          "output_type": "execute_result",
          "data": {
            "text/plain": [
              "['OS:',\n",
              " 'Processor:',\n",
              " 'Memory:',\n",
              " 'Graphics:',\n",
              " 'DirectX:',\n",
              " 'Storage:',\n",
              " 'Additional Notes:']"
            ]
          },
          "metadata": {
            "tags": []
          },
          "execution_count": 12
        }
      ]
    },
    {
      "cell_type": "code",
      "metadata": {
        "colab": {
          "base_uri": "https://localhost:8080/"
        },
        "id": "fEncK0I5FLyR",
        "outputId": "177bc098-73c9-4729-cc1c-058f25806c7d"
      },
      "source": [
        "recommended_req_txt"
      ],
      "execution_count": 13,
      "outputs": [
        {
          "output_type": "execute_result",
          "data": {
            "text/plain": [
              "[' Windows 10',\n",
              " ' Intel Core i7-4790 or AMD Ryzen 3 3200G',\n",
              " ' 12 GB RAM',\n",
              " ' GTX 1060 6GB / GTX 1660 Super or Radeon RX 590',\n",
              " ' Version 12',\n",
              " ' 70 GB available space',\n",
              " ' SSD recommended']"
            ]
          },
          "metadata": {
            "tags": []
          },
          "execution_count": 13
        }
      ]
    },
    {
      "cell_type": "code",
      "metadata": {
        "id": "M0ILe6XujoLK"
      },
      "source": [
        "merged_list_min = [(min_req_strongs[i], min_req_txt[i]) for i in range(0, len(min_req_strongs))]"
      ],
      "execution_count": 14,
      "outputs": []
    },
    {
      "cell_type": "code",
      "metadata": {
        "colab": {
          "base_uri": "https://localhost:8080/"
        },
        "id": "Qo9Zc0erjwjK",
        "outputId": "c3a5917b-39d5-4c15-b07c-732d1d48490f"
      },
      "source": [
        "merged_list_min"
      ],
      "execution_count": 15,
      "outputs": [
        {
          "output_type": "execute_result",
          "data": {
            "text/plain": [
              "[('OS:', ' Windows 7 or 10'),\n",
              " ('Processor:', ' Intel Core i5-3570K or AMD FX-8310'),\n",
              " ('Memory:', ' 8 GB RAM'),\n",
              " ('Graphics:', ' NVIDIA GeForce GTX 780 or AMD Radeon RX 470'),\n",
              " ('DirectX:', ' Version 12'),\n",
              " ('Storage:', ' 70 GB available space'),\n",
              " ('Additional Notes:',\n",
              "  ' In this game you will encounter a variety of visual effects that may provide seizures or loss of consciousness in a minority of people. If you or someone you know experiences any of the above symptoms while playing, stop and seek medical attention immediately.')]"
            ]
          },
          "metadata": {
            "tags": []
          },
          "execution_count": 15
        }
      ]
    },
    {
      "cell_type": "code",
      "metadata": {
        "id": "taWCcrFwknoR"
      },
      "source": [
        "import numpy as np \r\n",
        "merged_arr_min =np.array(merged_list_min)"
      ],
      "execution_count": 16,
      "outputs": []
    },
    {
      "cell_type": "code",
      "metadata": {
        "colab": {
          "base_uri": "https://localhost:8080/"
        },
        "id": "8s1t_EJSk9UB",
        "outputId": "4b5644a2-5ab7-4bfd-a452-8d51fa386cd1"
      },
      "source": [
        "merged_arr_min.shape"
      ],
      "execution_count": 17,
      "outputs": [
        {
          "output_type": "execute_result",
          "data": {
            "text/plain": [
              "(7, 2)"
            ]
          },
          "metadata": {
            "tags": []
          },
          "execution_count": 17
        }
      ]
    },
    {
      "cell_type": "code",
      "metadata": {
        "id": "cdpCSuqXlEqo"
      },
      "source": [
        "merged_list_rec = [(recommended_req_strongs[i], recommended_req_txt[i]) for i in range(0, len(recommended_req_strongs))  ]\r\n",
        "merged_arr_recommended = np.array(merged_list_rec)"
      ],
      "execution_count": 18,
      "outputs": []
    },
    {
      "cell_type": "code",
      "metadata": {
        "colab": {
          "base_uri": "https://localhost:8080/"
        },
        "id": "zPy-rpqZlZpQ",
        "outputId": "f5213759-faba-48e6-82ea-36fbaf206bc6"
      },
      "source": [
        "merged_arr_recommended"
      ],
      "execution_count": 19,
      "outputs": [
        {
          "output_type": "execute_result",
          "data": {
            "text/plain": [
              "array([['OS:', ' Windows 10'],\n",
              "       ['Processor:', ' Intel Core i7-4790 or AMD Ryzen 3 3200G'],\n",
              "       ['Memory:', ' 12 GB RAM'],\n",
              "       ['Graphics:', ' GTX 1060 6GB / GTX 1660 Super or Radeon RX 590'],\n",
              "       ['DirectX:', ' Version 12'],\n",
              "       ['Storage:', ' 70 GB available space'],\n",
              "       ['Additional Notes:', ' SSD recommended']], dtype='<U47')"
            ]
          },
          "metadata": {
            "tags": []
          },
          "execution_count": 19
        }
      ]
    },
    {
      "cell_type": "code",
      "metadata": {
        "colab": {
          "base_uri": "https://localhost:8080/"
        },
        "id": "E1F9Rwjep70b",
        "outputId": "9c36b164-49e6-498f-cb84-06f9419dba97"
      },
      "source": [
        "!pip install selenium"
      ],
      "execution_count": 20,
      "outputs": [
        {
          "output_type": "stream",
          "text": [
            "Collecting selenium\n",
            "\u001b[?25l  Downloading https://files.pythonhosted.org/packages/80/d6/4294f0b4bce4de0abf13e17190289f9d0613b0a44e5dd6a7f5ca98459853/selenium-3.141.0-py2.py3-none-any.whl (904kB)\n",
            "\r\u001b[K     |▍                               | 10kB 17.2MB/s eta 0:00:01\r\u001b[K     |▊                               | 20kB 8.2MB/s eta 0:00:01\r\u001b[K     |█                               | 30kB 7.2MB/s eta 0:00:01\r\u001b[K     |█▌                              | 40kB 7.0MB/s eta 0:00:01\r\u001b[K     |█▉                              | 51kB 4.4MB/s eta 0:00:01\r\u001b[K     |██▏                             | 61kB 4.8MB/s eta 0:00:01\r\u001b[K     |██▌                             | 71kB 4.7MB/s eta 0:00:01\r\u001b[K     |███                             | 81kB 5.0MB/s eta 0:00:01\r\u001b[K     |███▎                            | 92kB 5.3MB/s eta 0:00:01\r\u001b[K     |███▋                            | 102kB 5.6MB/s eta 0:00:01\r\u001b[K     |████                            | 112kB 5.6MB/s eta 0:00:01\r\u001b[K     |████▍                           | 122kB 5.6MB/s eta 0:00:01\r\u001b[K     |████▊                           | 133kB 5.6MB/s eta 0:00:01\r\u001b[K     |█████                           | 143kB 5.6MB/s eta 0:00:01\r\u001b[K     |█████▍                          | 153kB 5.6MB/s eta 0:00:01\r\u001b[K     |█████▉                          | 163kB 5.6MB/s eta 0:00:01\r\u001b[K     |██████▏                         | 174kB 5.6MB/s eta 0:00:01\r\u001b[K     |██████▌                         | 184kB 5.6MB/s eta 0:00:01\r\u001b[K     |██████▉                         | 194kB 5.6MB/s eta 0:00:01\r\u001b[K     |███████▎                        | 204kB 5.6MB/s eta 0:00:01\r\u001b[K     |███████▋                        | 215kB 5.6MB/s eta 0:00:01\r\u001b[K     |████████                        | 225kB 5.6MB/s eta 0:00:01\r\u001b[K     |████████▎                       | 235kB 5.6MB/s eta 0:00:01\r\u001b[K     |████████▊                       | 245kB 5.6MB/s eta 0:00:01\r\u001b[K     |█████████                       | 256kB 5.6MB/s eta 0:00:01\r\u001b[K     |█████████▍                      | 266kB 5.6MB/s eta 0:00:01\r\u001b[K     |█████████▉                      | 276kB 5.6MB/s eta 0:00:01\r\u001b[K     |██████████▏                     | 286kB 5.6MB/s eta 0:00:01\r\u001b[K     |██████████▌                     | 296kB 5.6MB/s eta 0:00:01\r\u001b[K     |██████████▉                     | 307kB 5.6MB/s eta 0:00:01\r\u001b[K     |███████████▎                    | 317kB 5.6MB/s eta 0:00:01\r\u001b[K     |███████████▋                    | 327kB 5.6MB/s eta 0:00:01\r\u001b[K     |████████████                    | 337kB 5.6MB/s eta 0:00:01\r\u001b[K     |████████████▎                   | 348kB 5.6MB/s eta 0:00:01\r\u001b[K     |████████████▊                   | 358kB 5.6MB/s eta 0:00:01\r\u001b[K     |█████████████                   | 368kB 5.6MB/s eta 0:00:01\r\u001b[K     |█████████████▍                  | 378kB 5.6MB/s eta 0:00:01\r\u001b[K     |█████████████▊                  | 389kB 5.6MB/s eta 0:00:01\r\u001b[K     |██████████████▏                 | 399kB 5.6MB/s eta 0:00:01\r\u001b[K     |██████████████▌                 | 409kB 5.6MB/s eta 0:00:01\r\u001b[K     |██████████████▉                 | 419kB 5.6MB/s eta 0:00:01\r\u001b[K     |███████████████▏                | 430kB 5.6MB/s eta 0:00:01\r\u001b[K     |███████████████▋                | 440kB 5.6MB/s eta 0:00:01\r\u001b[K     |████████████████                | 450kB 5.6MB/s eta 0:00:01\r\u001b[K     |████████████████▎               | 460kB 5.6MB/s eta 0:00:01\r\u001b[K     |████████████████▋               | 471kB 5.6MB/s eta 0:00:01\r\u001b[K     |█████████████████               | 481kB 5.6MB/s eta 0:00:01\r\u001b[K     |█████████████████▍              | 491kB 5.6MB/s eta 0:00:01\r\u001b[K     |█████████████████▊              | 501kB 5.6MB/s eta 0:00:01\r\u001b[K     |██████████████████▏             | 512kB 5.6MB/s eta 0:00:01\r\u001b[K     |██████████████████▌             | 522kB 5.6MB/s eta 0:00:01\r\u001b[K     |██████████████████▉             | 532kB 5.6MB/s eta 0:00:01\r\u001b[K     |███████████████████▏            | 542kB 5.6MB/s eta 0:00:01\r\u001b[K     |███████████████████▋            | 552kB 5.6MB/s eta 0:00:01\r\u001b[K     |████████████████████            | 563kB 5.6MB/s eta 0:00:01\r\u001b[K     |████████████████████▎           | 573kB 5.6MB/s eta 0:00:01\r\u001b[K     |████████████████████▋           | 583kB 5.6MB/s eta 0:00:01\r\u001b[K     |█████████████████████           | 593kB 5.6MB/s eta 0:00:01\r\u001b[K     |█████████████████████▍          | 604kB 5.6MB/s eta 0:00:01\r\u001b[K     |█████████████████████▊          | 614kB 5.6MB/s eta 0:00:01\r\u001b[K     |██████████████████████          | 624kB 5.6MB/s eta 0:00:01\r\u001b[K     |██████████████████████▌         | 634kB 5.6MB/s eta 0:00:01\r\u001b[K     |██████████████████████▉         | 645kB 5.6MB/s eta 0:00:01\r\u001b[K     |███████████████████████▏        | 655kB 5.6MB/s eta 0:00:01\r\u001b[K     |███████████████████████▌        | 665kB 5.6MB/s eta 0:00:01\r\u001b[K     |████████████████████████        | 675kB 5.6MB/s eta 0:00:01\r\u001b[K     |████████████████████████▎       | 686kB 5.6MB/s eta 0:00:01\r\u001b[K     |████████████████████████▋       | 696kB 5.6MB/s eta 0:00:01\r\u001b[K     |█████████████████████████       | 706kB 5.6MB/s eta 0:00:01\r\u001b[K     |█████████████████████████▍      | 716kB 5.6MB/s eta 0:00:01\r\u001b[K     |█████████████████████████▊      | 727kB 5.6MB/s eta 0:00:01\r\u001b[K     |██████████████████████████      | 737kB 5.6MB/s eta 0:00:01\r\u001b[K     |██████████████████████████▍     | 747kB 5.6MB/s eta 0:00:01\r\u001b[K     |██████████████████████████▉     | 757kB 5.6MB/s eta 0:00:01\r\u001b[K     |███████████████████████████▏    | 768kB 5.6MB/s eta 0:00:01\r\u001b[K     |███████████████████████████▌    | 778kB 5.6MB/s eta 0:00:01\r\u001b[K     |████████████████████████████    | 788kB 5.6MB/s eta 0:00:01\r\u001b[K     |████████████████████████████▎   | 798kB 5.6MB/s eta 0:00:01\r\u001b[K     |████████████████████████████▋   | 808kB 5.6MB/s eta 0:00:01\r\u001b[K     |█████████████████████████████   | 819kB 5.6MB/s eta 0:00:01\r\u001b[K     |█████████████████████████████▍  | 829kB 5.6MB/s eta 0:00:01\r\u001b[K     |█████████████████████████████▊  | 839kB 5.6MB/s eta 0:00:01\r\u001b[K     |██████████████████████████████  | 849kB 5.6MB/s eta 0:00:01\r\u001b[K     |██████████████████████████████▍ | 860kB 5.6MB/s eta 0:00:01\r\u001b[K     |██████████████████████████████▉ | 870kB 5.6MB/s eta 0:00:01\r\u001b[K     |███████████████████████████████▏| 880kB 5.6MB/s eta 0:00:01\r\u001b[K     |███████████████████████████████▌| 890kB 5.6MB/s eta 0:00:01\r\u001b[K     |███████████████████████████████▉| 901kB 5.6MB/s eta 0:00:01\r\u001b[K     |████████████████████████████████| 911kB 5.6MB/s \n",
            "\u001b[?25hRequirement already satisfied: urllib3 in /usr/local/lib/python3.6/dist-packages (from selenium) (1.24.3)\n",
            "Installing collected packages: selenium\n",
            "Successfully installed selenium-3.141.0\n"
          ],
          "name": "stdout"
        }
      ]
    },
    {
      "cell_type": "code",
      "metadata": {
        "colab": {
          "base_uri": "https://localhost:8080/"
        },
        "id": "SKR5sdRhuLd0",
        "outputId": "c32e24d3-56ff-498e-af79-182bbd2ca819"
      },
      "source": [
        "!apt install chromium-chromedriver"
      ],
      "execution_count": 21,
      "outputs": [
        {
          "output_type": "stream",
          "text": [
            "Reading package lists... Done\n",
            "Building dependency tree       \n",
            "Reading state information... Done\n",
            "The following additional packages will be installed:\n",
            "  chromium-browser chromium-browser-l10n chromium-codecs-ffmpeg-extra\n",
            "Suggested packages:\n",
            "  webaccounts-chromium-extension unity-chromium-extension adobe-flashplugin\n",
            "The following NEW packages will be installed:\n",
            "  chromium-browser chromium-browser-l10n chromium-chromedriver\n",
            "  chromium-codecs-ffmpeg-extra\n",
            "0 upgraded, 4 newly installed, 0 to remove and 15 not upgraded.\n",
            "Need to get 81.0 MB of archives.\n",
            "After this operation, 273 MB of additional disk space will be used.\n",
            "Get:1 http://archive.ubuntu.com/ubuntu bionic-updates/universe amd64 chromium-codecs-ffmpeg-extra amd64 87.0.4280.66-0ubuntu0.18.04.1 [1,122 kB]\n",
            "Get:2 http://archive.ubuntu.com/ubuntu bionic-updates/universe amd64 chromium-browser amd64 87.0.4280.66-0ubuntu0.18.04.1 [71.7 MB]\n",
            "Get:3 http://archive.ubuntu.com/ubuntu bionic-updates/universe amd64 chromium-browser-l10n all 87.0.4280.66-0ubuntu0.18.04.1 [3,716 kB]\n",
            "Get:4 http://archive.ubuntu.com/ubuntu bionic-updates/universe amd64 chromium-chromedriver amd64 87.0.4280.66-0ubuntu0.18.04.1 [4,488 kB]\n",
            "Fetched 81.0 MB in 9s (9,095 kB/s)\n",
            "Selecting previously unselected package chromium-codecs-ffmpeg-extra.\n",
            "(Reading database ... 145480 files and directories currently installed.)\n",
            "Preparing to unpack .../chromium-codecs-ffmpeg-extra_87.0.4280.66-0ubuntu0.18.04.1_amd64.deb ...\n",
            "Unpacking chromium-codecs-ffmpeg-extra (87.0.4280.66-0ubuntu0.18.04.1) ...\n",
            "Selecting previously unselected package chromium-browser.\n",
            "Preparing to unpack .../chromium-browser_87.0.4280.66-0ubuntu0.18.04.1_amd64.deb ...\n",
            "Unpacking chromium-browser (87.0.4280.66-0ubuntu0.18.04.1) ...\n",
            "Selecting previously unselected package chromium-browser-l10n.\n",
            "Preparing to unpack .../chromium-browser-l10n_87.0.4280.66-0ubuntu0.18.04.1_all.deb ...\n",
            "Unpacking chromium-browser-l10n (87.0.4280.66-0ubuntu0.18.04.1) ...\n",
            "Selecting previously unselected package chromium-chromedriver.\n",
            "Preparing to unpack .../chromium-chromedriver_87.0.4280.66-0ubuntu0.18.04.1_amd64.deb ...\n",
            "Unpacking chromium-chromedriver (87.0.4280.66-0ubuntu0.18.04.1) ...\n",
            "Setting up chromium-codecs-ffmpeg-extra (87.0.4280.66-0ubuntu0.18.04.1) ...\n",
            "Setting up chromium-browser (87.0.4280.66-0ubuntu0.18.04.1) ...\n",
            "update-alternatives: using /usr/bin/chromium-browser to provide /usr/bin/x-www-browser (x-www-browser) in auto mode\n",
            "update-alternatives: using /usr/bin/chromium-browser to provide /usr/bin/gnome-www-browser (gnome-www-browser) in auto mode\n",
            "Setting up chromium-chromedriver (87.0.4280.66-0ubuntu0.18.04.1) ...\n",
            "Setting up chromium-browser-l10n (87.0.4280.66-0ubuntu0.18.04.1) ...\n",
            "Processing triggers for hicolor-icon-theme (0.17-2) ...\n",
            "Processing triggers for mime-support (3.60ubuntu1) ...\n",
            "Processing triggers for man-db (2.8.3-2ubuntu0.1) ...\n"
          ],
          "name": "stdout"
        }
      ]
    },
    {
      "cell_type": "code",
      "metadata": {
        "id": "RIL0kx7uuKHt"
      },
      "source": [
        "import sys"
      ],
      "execution_count": 22,
      "outputs": []
    },
    {
      "cell_type": "code",
      "metadata": {
        "id": "l0AAq0wMuQYc"
      },
      "source": [
        "sys.path.insert(0,'/usr/lib/chromium-browser/chromedriver')"
      ],
      "execution_count": 23,
      "outputs": []
    },
    {
      "cell_type": "code",
      "metadata": {
        "id": "jeFT7MN1qPlh"
      },
      "source": [
        "from selenium import webdriver\r\n",
        "from selenium.webdriver.common.keys import Keys\r\n",
        "from selenium.webdriver.support.ui import Select\r\n",
        "import time\r\n",
        "from selenium.webdriver.support import expected_conditions as EC\r\n",
        "from selenium.webdriver.common.by import By\r\n",
        "from selenium.webdriver.support.ui import WebDriverWait\r\n",
        "#from webdriver_manager.firefox import GeckoDriverManager"
      ],
      "execution_count": 24,
      "outputs": []
    },
    {
      "cell_type": "code",
      "metadata": {
        "id": "jW82mqm0uclM"
      },
      "source": [
        "chrome_options = webdriver.ChromeOptions()\r\n",
        "chrome_options.add_argument('--headless')\r\n",
        "chrome_options.add_argument('--no-sandbox')\r\n",
        "chrome_options.add_argument('--disable-dev-shm-usage')"
      ],
      "execution_count": 25,
      "outputs": []
    },
    {
      "cell_type": "code",
      "metadata": {
        "id": "_Ea2OCHp8RiF"
      },
      "source": [
        "def get_page_link_from_steam(game):\r\n",
        "  print(f\"Getting page for {game} ...\"  )\r\n",
        "  driver = webdriver.Chrome('chromedriver',chrome_options=chrome_options)\r\n",
        "  driver.get(\"https://store.steampowered.com/\")\r\n",
        "  assert \"Steam\" in driver.title #assert is for debugging, if the condition is false, AssertionError is raised. \r\n",
        "  #Here we are using it to confirm that the title has \"Steam\".\r\n",
        "  wait = WebDriverWait(driver,10)\r\n",
        "  elem = driver.find_element_by_id(\"store_nav_search_term\")\r\n",
        "  elem.clear()\r\n",
        "  elem.send_keys(game)\r\n",
        "  elem.send_keys(Keys.ENTER)\r\n",
        "\r\n",
        " # print(driver.page_source)\r\n",
        " \r\n",
        "  driver.find_element_by_xpath(\"//div[(@id = 'search_resultsRows')]/a[1]\").click()\r\n",
        "  source_str =  str(driver.page_source)\r\n",
        "   #If not appropiate for all ages\r\n",
        "  #print(source_str)\r\n",
        "  if \"View Page\" in source_str:\r\n",
        "    print(\"entered\")\r\n",
        "\r\n",
        "    #Specify the age\r\n",
        "    element = driver.find_element_by_xpath(\"//select[@name='ageYear']\")\r\n",
        "    all_options = element.find_elements_by_tag_name(\"option\")\r\n",
        "    for option in all_options:\r\n",
        "      #print(\"Value is: %s\" % option.get_attribute(\"value\"))\r\n",
        "      if  option.get_attribute(\"value\") == '1900':\r\n",
        "        print(\"clicked\")\r\n",
        "        option.click()\r\n",
        "        \r\n",
        "\r\n",
        "    driver.find_element_by_xpath(\"//div[(@class = 'main_content_ctn')]/div[@class = 'agegate_text_container btns']/a[1]\").click() \r\n",
        "    wait.until(EC.visibility_of_element_located((By.CLASS_NAME, 'game_area_purchase_game')))\r\n",
        "    #time.sleep(1) #  wait.until(EC.visibility_of_element_located((By.CLASS_NAME, 'tt-open')))\r\n",
        "  return driver.current_url\r\n",
        "  \r\n"
      ],
      "execution_count": 79,
      "outputs": []
    },
    {
      "cell_type": "markdown",
      "metadata": {
        "id": "OpQiOyYLvhnp"
      },
      "source": [
        "* Once we have the link that we need, let's scrap the page as we did it before.\r\n"
      ]
    },
    {
      "cell_type": "code",
      "metadata": {
        "id": "YVqATBv_vvO4"
      },
      "source": [
        "def scrap_page_steam(link_path):\r\n",
        "  print(f\"Scraping {link_path} ...\"  )\r\n",
        "  headers = {'Content-Type': 'text/html',}\r\n",
        "  response = requests.get(link_path, headers=headers)\r\n",
        "  raw_html = response.text\r\n",
        "  html = etree.HTML(raw_html)\r\n",
        "\r\n",
        "#Get description\r\n",
        "  xpath_for_description = \"//div[(@id = 'game_area_description')]/text()\"\r\n",
        "  description_txt = html.xpath(xpath_for_description)\r\n",
        "\r\n",
        "#Get Minimum Requirements\r\n",
        "  xpath_for_min_req_strongs = \"//div[(@class = 'game_area_sys_req_leftCol')]/ul/ul//strong/text()\"\r\n",
        "  xpath_for_min_req = \"//div[(@class = 'game_area_sys_req_leftCol')]/ul/ul/li[strong]/text()\" #With [] we say to look for those li with strong\r\n",
        "  min_req_strongs = html.xpath(xpath_for_min_req_strongs)\r\n",
        "  min_req_txt = html.xpath(xpath_for_min_req)\r\n",
        "\r\n",
        "#Get Recommended Requirements\r\n",
        "  xpath_for_recommended_req_strongs = \"//div[(@class='game_area_sys_req_rightCol')]/ul/ul//strong/text()\"\r\n",
        "  xpath_for_recommended_req = \"//div[(@class='game_area_sys_req_rightCol')]/ul/ul/li[strong]/text()\" #With [] we say to look for those li with strong\r\n",
        "  recommended_req_strongs = html.xpath(xpath_for_recommended_req_strongs)\r\n",
        "  recommended_req_txt = html.xpath(xpath_for_recommended_req)\r\n",
        "\r\n",
        "#Merge strongs and text in the same array\r\n",
        "  merged_list_min = [(min_req_strongs[i], min_req_txt[i]) for i in range(0, len(min_req_strongs))]\r\n",
        "  merged_arr_min =np.array(merged_list_min)\r\n",
        "\r\n",
        "  merged_list_rec = [(recommended_req_strongs[i], recommended_req_txt[i]) for i in range(0, len(recommended_req_strongs)) ]\r\n",
        "  merged_arr_recommended = np.array(merged_list_rec)\r\n",
        "\r\n",
        "  return description_txt, merged_arr_min, merged_arr_recommended"
      ],
      "execution_count": 27,
      "outputs": []
    },
    {
      "cell_type": "code",
      "metadata": {
        "colab": {
          "base_uri": "https://localhost:8080/",
          "height": 120
        },
        "id": "2wCk5R0i8lIF",
        "outputId": "9b65e8ef-8579-45fc-978e-09f5b0b25f43"
      },
      "source": [
        "page_to_scrap = get_page_link_from_steam('Doom')\r\n",
        "page_to_scrap\r\n"
      ],
      "execution_count": 83,
      "outputs": [
        {
          "output_type": "stream",
          "text": [
            "Getting page for Doom ...\n"
          ],
          "name": "stdout"
        },
        {
          "output_type": "stream",
          "text": [
            "/usr/local/lib/python3.6/dist-packages/ipykernel_launcher.py:3: DeprecationWarning: use options instead of chrome_options\n",
            "  This is separate from the ipykernel package so we can avoid doing imports until\n"
          ],
          "name": "stderr"
        },
        {
          "output_type": "stream",
          "text": [
            "entered\n",
            "clicked\n"
          ],
          "name": "stdout"
        },
        {
          "output_type": "execute_result",
          "data": {
            "application/vnd.google.colaboratory.intrinsic+json": {
              "type": "string"
            },
            "text/plain": [
              "'https://store.steampowered.com/app/782330/DOOM_Eternal/'"
            ]
          },
          "metadata": {
            "tags": []
          },
          "execution_count": 83
        }
      ]
    },
    {
      "cell_type": "code",
      "metadata": {
        "colab": {
          "base_uri": "https://localhost:8080/",
          "height": 35
        },
        "id": "DWfev-eZaAor",
        "outputId": "5356476f-3799-4797-9b47-ee9121604524"
      },
      "source": [
        "page_to_scrap"
      ],
      "execution_count": 29,
      "outputs": [
        {
          "output_type": "execute_result",
          "data": {
            "application/vnd.google.colaboratory.intrinsic+json": {
              "type": "string"
            },
            "text/plain": [
              "'https://store.steampowered.com/app/414340/Hellblade_Senuas_Sacrifice/'"
            ]
          },
          "metadata": {
            "tags": []
          },
          "execution_count": 29
        }
      ]
    },
    {
      "cell_type": "code",
      "metadata": {
        "colab": {
          "base_uri": "https://localhost:8080/"
        },
        "id": "t_9HmvKD3UP7",
        "outputId": "2af79d2d-2a5b-4e69-9243-f5d5077e3065"
      },
      "source": [
        "descr, min, recommended = scrap_page_steam(page_to_scrap)"
      ],
      "execution_count": 30,
      "outputs": [
        {
          "output_type": "stream",
          "text": [
            "Scraping https://store.steampowered.com/app/414340/Hellblade_Senuas_Sacrifice/ ...\n"
          ],
          "name": "stdout"
        }
      ]
    },
    {
      "cell_type": "code",
      "metadata": {
        "colab": {
          "base_uri": "https://localhost:8080/"
        },
        "id": "bp6VkMiH3akz",
        "outputId": "25c01e86-6b00-4f34-934a-ae257a30de04"
      },
      "source": [
        "descr"
      ],
      "execution_count": 31,
      "outputs": [
        {
          "output_type": "execute_result",
          "data": {
            "text/plain": [
              "['\\r\\n\\t\\t\\t\\t\\t\\t\\t',\n",
              " '\\r\\n\\t\\t\\t\\t\\t\\t\\t',\n",
              " 'From the makers of Heavenly Sword, Enslaved: Odyssey to the West, and DmC: Devil May Cry, comes a warrior’s brutal journey into myth and madness.',\n",
              " 'Set in the Viking age, a broken Celtic warrior embarks on a haunting vision quest into Viking Hell to fight for the soul of her dead lover. ',\n",
              " 'Created in collaboration with neuroscientists and people who experience psychosis, Hellblade: Senua’s Sacrifice will pull you deep into Senua’s mind.',\n",
              " '\\t\\t\\t\\t\\t\\t']"
            ]
          },
          "metadata": {
            "tags": []
          },
          "execution_count": 31
        }
      ]
    },
    {
      "cell_type": "code",
      "metadata": {
        "colab": {
          "base_uri": "https://localhost:8080/"
        },
        "id": "TTmf_pc83cL7",
        "outputId": "9d98e00a-1ae3-4a93-c3e9-417dd42b4ab0"
      },
      "source": [
        "min"
      ],
      "execution_count": 32,
      "outputs": [
        {
          "output_type": "execute_result",
          "data": {
            "text/plain": [
              "array([], dtype=float64)"
            ]
          },
          "metadata": {
            "tags": []
          },
          "execution_count": 32
        }
      ]
    },
    {
      "cell_type": "code",
      "metadata": {
        "colab": {
          "base_uri": "https://localhost:8080/"
        },
        "id": "m6BDqeoW3db8",
        "outputId": "6e65f580-d097-4f71-8a9b-e06155f36b6f"
      },
      "source": [
        "recommended"
      ],
      "execution_count": 33,
      "outputs": [
        {
          "output_type": "execute_result",
          "data": {
            "text/plain": [
              "array([], dtype=float64)"
            ]
          },
          "metadata": {
            "tags": []
          },
          "execution_count": 33
        }
      ]
    },
    {
      "cell_type": "markdown",
      "metadata": {
        "id": "kw0KF5tzBhex"
      },
      "source": [
        "* Let's scrap pcgamebenchmark.com"
      ]
    },
    {
      "cell_type": "code",
      "metadata": {
        "id": "o6FGlVegBndj"
      },
      "source": [
        "def get_game_link_pcgbm(game):\r\n",
        "  print(f\"Getting page for {game} ...\"  )\r\n",
        "  \r\n",
        "  driver = webdriver.Chrome('chromedriver',chrome_options=chrome_options)\r\n",
        "  driver.get(\"https://www.pcgamebenchmark.com/\")\r\n",
        "  assert \"PCGameBenchmark\" in driver.title #assert is for debugging, if the condition is false, AssertionError is raised. \r\n",
        "  #Here we are using it to confirm that the title has \"Steam\".\r\n",
        "  wait = WebDriverWait(driver,10)\r\n",
        "  elem = driver.find_element_by_xpath(\"//form[(@id = 'search')]/span/input[@name = 'q']\")\r\n",
        "  elem.clear()\r\n",
        "  elem.send_keys(game)\r\n",
        "\r\n",
        "  wait.until(EC.visibility_of_element_located((By.CLASS_NAME, 'tt-open')))\r\n",
        "  \r\n",
        "  elem.send_keys(Keys.ENTER)\r\n",
        "  print(driver.current_url)\r\n",
        "\r\n",
        "  \r\n",
        "  return driver.current_url\r\n",
        "  \r\n"
      ],
      "execution_count": 34,
      "outputs": []
    },
    {
      "cell_type": "code",
      "metadata": {
        "id": "oqx8IsY1ExDd"
      },
      "source": [
        "def scrap_from_pcgbm(game_url):\r\n",
        "  print(f\"Scraping {game_url} ...\"  )\r\n",
        "  headers = {'Content-Type': 'text/html',}\r\n",
        "  response = requests.get(game_url, headers=headers)\r\n",
        "  raw_html = response.text\r\n",
        "  html = etree.HTML(raw_html)\r\n",
        "\r\n",
        "#Get description\r\n",
        "  xpath_for_description = \"//div[(@id = 'details-meta')]/div[@class = 'description']/p/text()\"\r\n",
        "  description_txt = html.xpath(xpath_for_description)\r\n",
        "\r\n",
        "#Get Minimum Requirements\r\n",
        "  xpath_for_min_req_strongs = \"//div[(@class = 'row requirements')]/div[1]/ul/li/strong/text() | //div[(@class = 'requirements')]/ul/li/strong/text()\"# with | like an or, we will use either one of the xpath \r\n",
        "   \r\n",
        "  xpath_for_min_req = \"//div[(@class = 'row requirements')]/div[1]/ul/li[strong]/text() | //div[(@class = 'requirements')]/ul/li[strong]/text()\" #With [] we say to look for those li with strong\r\n",
        "  min_req_strongs = html.xpath(xpath_for_min_req_strongs)\r\n",
        "  min_req_txt = html.xpath(xpath_for_min_req)\r\n",
        "\r\n",
        "#Get Recommended Requirements\r\n",
        "  xpath_for_recommended_req_strongs = \"//div[(@class = 'row requirements')]/div[2]/ul/li/strong/text()\"\r\n",
        "  xpath_for_recommended_req = \"//div[(@class = 'row requirements')]/div[2]/ul/li[strong]/text()\"#With [] we say to look for those li with strong\r\n",
        "  recommended_req_strongs = html.xpath(xpath_for_recommended_req_strongs)\r\n",
        "  recommended_req_txt = html.xpath(xpath_for_recommended_req)\r\n",
        "\r\n",
        "#Merge strongs and text in the same array\r\n",
        "  merged_list_min = [(min_req_strongs[i], min_req_txt[i]) for i in range(0, len(min_req_strongs))]\r\n",
        "  merged_arr_min =np.array(merged_list_min)\r\n",
        "\r\n",
        "  merged_list_rec = [(recommended_req_strongs[i], recommended_req_txt[i]) for i in range(0, len(recommended_req_strongs)) ]\r\n",
        "  merged_arr_recommended = np.array(merged_list_rec)\r\n",
        "\r\n",
        "\r\n",
        "  return description_txt, merged_arr_min, merged_arr_recommended"
      ],
      "execution_count": 67,
      "outputs": []
    },
    {
      "cell_type": "code",
      "metadata": {
        "colab": {
          "base_uri": "https://localhost:8080/"
        },
        "id": "X_JeeIISCm0w",
        "outputId": "0058bb6e-6f1e-444b-cbe9-343930de2033"
      },
      "source": [
        "pcgbm_link = get_game_link_pcgbm('among us')"
      ],
      "execution_count": 63,
      "outputs": [
        {
          "output_type": "stream",
          "text": [
            "Getting page for among us ...\n"
          ],
          "name": "stdout"
        },
        {
          "output_type": "stream",
          "text": [
            "/usr/local/lib/python3.6/dist-packages/ipykernel_launcher.py:4: DeprecationWarning: use options instead of chrome_options\n",
            "  after removing the cwd from sys.path.\n"
          ],
          "name": "stderr"
        },
        {
          "output_type": "stream",
          "text": [
            "https://www.pcgamebenchmark.com/among-us-system-requirements\n"
          ],
          "name": "stdout"
        }
      ]
    },
    {
      "cell_type": "code",
      "metadata": {
        "colab": {
          "base_uri": "https://localhost:8080/"
        },
        "id": "WbKliS4bGMhM",
        "outputId": "f146eab6-da88-4901-e9cd-c89f53a3b7ac"
      },
      "source": [
        "description_txt_pcgbm, min_req_pcgbm, recommended_req_pcgbm = scrap_from_pcgbm(pcgbm_link)"
      ],
      "execution_count": 68,
      "outputs": [
        {
          "output_type": "stream",
          "text": [
            "Scraping https://www.pcgamebenchmark.com/among-us-system-requirements ...\n"
          ],
          "name": "stdout"
        }
      ]
    },
    {
      "cell_type": "code",
      "metadata": {
        "colab": {
          "base_uri": "https://localhost:8080/"
        },
        "id": "aL0uMMxUGoIQ",
        "outputId": "bca517fd-0b29-443f-9b5c-51bc92af97c1"
      },
      "source": [
        "description_txt_pcgbm"
      ],
      "execution_count": 69,
      "outputs": [
        {
          "output_type": "execute_result",
          "data": {
            "text/plain": [
              "['An online and local party game of teamwork and betrayal for 4-10 players...in space!']"
            ]
          },
          "metadata": {
            "tags": []
          },
          "execution_count": 69
        }
      ]
    },
    {
      "cell_type": "code",
      "metadata": {
        "colab": {
          "base_uri": "https://localhost:8080/"
        },
        "id": "7h2fNjfWRaot",
        "outputId": "046b31e0-fb10-4ca2-b71f-b1009b621a3e"
      },
      "source": [
        "min_req_pcgbm"
      ],
      "execution_count": 70,
      "outputs": [
        {
          "output_type": "execute_result",
          "data": {
            "text/plain": [
              "array([['Memory:', '2 GB'],\n",
              "       ['Graphics Card:', 'NVIDIA GeForce GT 610'],\n",
              "       ['Among Us CPU:', 'Intel Core i3-2120'],\n",
              "       ['File Size:', '1 GB'],\n",
              "       ['OS:', 'Windows 10'],\n",
              "       ['Memory:', '1 GB'],\n",
              "       ['Graphics Card:', 'NVIDIA GeForce 510'],\n",
              "       ['CPU:', 'Intel Pentium 4 2.00GHz'],\n",
              "       ['Among Us File Size:', '250 MB'],\n",
              "       ['OS:', 'Windows 7 SP1+']], dtype='<U23')"
            ]
          },
          "metadata": {
            "tags": []
          },
          "execution_count": 70
        }
      ]
    },
    {
      "cell_type": "code",
      "metadata": {
        "colab": {
          "base_uri": "https://localhost:8080/"
        },
        "id": "8aqFClmGRfEv",
        "outputId": "ddd7ed2a-9a04-4b21-b2c8-fbeb0a44513b"
      },
      "source": [
        "recommended_req_pcgbm"
      ],
      "execution_count": 61,
      "outputs": [
        {
          "output_type": "execute_result",
          "data": {
            "text/plain": [
              "array([], dtype=float64)"
            ]
          },
          "metadata": {
            "tags": []
          },
          "execution_count": 61
        }
      ]
    }
  ]
}