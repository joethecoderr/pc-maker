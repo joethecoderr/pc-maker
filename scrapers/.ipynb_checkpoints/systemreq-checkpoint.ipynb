{
 "cells": [
  {
   "cell_type": "code",
   "execution_count": 165,
   "metadata": {},
   "outputs": [],
   "source": [
    "from selenium import webdriver\n",
    "from selenium.webdriver.common.keys import Keys\n",
    "from selenium.webdriver.support.ui import WebDriverWait\n",
    "from selenium.webdriver.support.ui import Select\n",
    "from selenium.common.exceptions import ElementNotVisibleException\n",
    "import time\n",
    "from selenium.webdriver.support import expected_conditions as EC\n",
    "from selenium.webdriver.common.by import By\n",
    "import requests\n",
    "import lxml.html as html"
   ]
  },
  {
   "cell_type": "code",
   "execution_count": 166,
   "metadata": {},
   "outputs": [],
   "source": [
    "url = 'https://www.systemrequirementslab.com/cyri'"
   ]
  },
  {
   "cell_type": "code",
   "execution_count": 167,
   "metadata": {},
   "outputs": [],
   "source": [
    "driver = webdriver.Chrome()\n",
    "wait = WebDriverWait(driver,40)\n",
    "driver.get(url)\n"
   ]
  },
  {
   "cell_type": "code",
   "execution_count": 168,
   "metadata": {},
   "outputs": [],
   "source": [
    "inputText = driver.find_element_by_id('index_drop_input')\n",
    "inputText.send_keys('Call of duty')"
   ]
  },
  {
   "cell_type": "code",
   "execution_count": 169,
   "metadata": {},
   "outputs": [],
   "source": [
    "wait.until(EC.visibility_of_element_located((By.ID, 'tipue_drop_wrapper')))\n",
    "time.sleep(3)\n",
    "element = driver.find_element_by_xpath('//div[@id=\"tipue_drop_wrapper\"]/a')\n",
    "element.click()\n",
    "button = driver.find_element_by_xpath('//div[@id=\"cyri-search-button\"]')\n",
    "button.click()\n"
   ]
  },
  {
   "cell_type": "code",
   "execution_count": 170,
   "metadata": {},
   "outputs": [
    {
     "data": {
      "text/plain": [
       "'https://www.systemrequirementslab.com/cyri/requirements/call-of-duty-black-ops-cold-war/20163'"
      ]
     },
     "execution_count": 170,
     "metadata": {},
     "output_type": "execute_result"
    }
   ],
   "source": [
    "driver.current_url"
   ]
  },
  {
   "cell_type": "code",
   "execution_count": 171,
   "metadata": {},
   "outputs": [],
   "source": [
    "r = requests.get(driver.current_url)"
   ]
  },
  {
   "cell_type": "code",
   "execution_count": 172,
   "metadata": {},
   "outputs": [
    {
     "name": "stdout",
     "output_type": "stream",
     "text": [
      "Min requirements:  [('CPU', ' Intel Core i3-4340 or AMD FX-6300'), ('RAM', ' 8 GB'), ('OS', ' Windows 7 64-Bit (SP1) or Windows 10 64-Bit (1803 or later)'), ('VIDEO CARD', ' Nvidia GeForce GTX 670  / GTX 1650 or AMD Radeon HD 7950'), ('PIXEL SHADER', ' 5.0'), ('VERTEX SHADER', ' 5.0'), ('FREE DISK SPACE', ' 35 GB')]\n",
      "Recommended:  [('CPU', ' Intel Core i5-2500K or AMD Ryzen R5 1600X processor'), ('RAM', ' 12 GB'), ('OS', ' Windows 10 64 Bit (latest Service Pack)'), ('VIDEO CARD', ' NVIDIA GeForce GTX 970 / GTX 1660 Super or Radeon R9 390 / AMD RX 580'), ('PIXEL SHADER', ' 5.1'), ('VERTEX SHADER', ' 5.1'), ('FREE DISK SPACE', ' 82 GB')]\n"
     ]
    }
   ],
   "source": [
    "if r.status_code == 200:\n",
    "  min, rec = min_rec_systemreq(r)\n",
    "  print('Min requirements: ', min)\n",
    "  print('Recommended: ', rec)"
   ]
  },
  {
   "cell_type": "code",
   "execution_count": 173,
   "metadata": {},
   "outputs": [],
   "source": [
    "def min_rec_systemreq(response):\n",
    "  list_tokenized_min = []\n",
    "  list_tokenized_rec = []\n",
    "  tple = ()\n",
    "  html_home = r.content.decode('utf-8')\n",
    "  parsed = html.fromstring(html_home)\n",
    "  try:\n",
    "    html_list_min = parsed.xpath('//div[@class=\"list-line-height\"]/ul[1]/li/text()')\n",
    "    html_list_rec = parsed.xpath('//div[@class=\"list-line-height\"]/ul[2]/li/text()')\n",
    "    for element in range(len(html_list_min)- 1):\n",
    "      hw, spec = html_list_min[element].split(':')\n",
    "      tple = (hw, spec)\n",
    "      list_tokenized_min.append(tple)\n",
    "      tple = ()\n",
    "    for element in range(len(html_list_rec) - 1):\n",
    "      hw, spec = html_list_rec[element].split(':')\n",
    "      tple = (hw, spec)\n",
    "      list_tokenized_rec.append(tple)\n",
    "      tple = ()\n",
    "  except:\n",
    "    return []\n",
    "  return list_tokenized_min, list_tokenized_rec"
   ]
  },
  {
   "cell_type": "code",
   "execution_count": null,
   "metadata": {},
   "outputs": [],
   "source": []
  }
 ],
 "metadata": {
  "kernelspec": {
   "display_name": "Python 3",
   "language": "python",
   "name": "python3"
  },
  "language_info": {
   "codemirror_mode": {
    "name": "ipython",
    "version": 3
   },
   "file_extension": ".py",
   "mimetype": "text/x-python",
   "name": "python",
   "nbconvert_exporter": "python",
   "pygments_lexer": "ipython3",
   "version": "3.6.10"
  }
 },
 "nbformat": 4,
 "nbformat_minor": 4
}
