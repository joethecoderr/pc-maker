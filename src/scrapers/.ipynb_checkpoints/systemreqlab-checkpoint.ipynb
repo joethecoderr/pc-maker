{
 "cells": [
  {
   "cell_type": "code",
   "execution_count": 17,
   "metadata": {},
   "outputs": [],
   "source": [
    "from selenium import webdriver\n",
    "from selenium.webdriver.common.keys import Keys\n",
    "from selenium.webdriver.support.ui import WebDriverWait\n",
    "from selenium.webdriver.support.ui import Select\n",
    "from selenium.common.exceptions import ElementNotVisibleException\n",
    "import time\n",
    "from selenium.webdriver.support import expected_conditions as EC\n",
    "from selenium.webdriver.common.by import By\n",
    "import requests\n",
    "import lxml.html as html\n",
    "import re"
   ]
  },
  {
   "cell_type": "code",
   "execution_count": 18,
   "metadata": {},
   "outputs": [],
   "source": [
    "url = 'https://www.systemrequirementslab.com/cyri'"
   ]
  },
  {
   "cell_type": "code",
   "execution_count": 19,
   "metadata": {},
   "outputs": [],
   "source": [
    "driver = webdriver.Chrome()\n",
    "wait = WebDriverWait(driver,40)\n",
    "driver.get(url)\n"
   ]
  },
  {
   "cell_type": "code",
   "execution_count": 20,
   "metadata": {},
   "outputs": [],
   "source": [
    "inputText = driver.find_element_by_id('index_drop_input')\n",
    "inputText.send_keys('Halo')"
   ]
  },
  {
   "cell_type": "code",
   "execution_count": 21,
   "metadata": {},
   "outputs": [],
   "source": [
    "wait.until(EC.visibility_of_element_located((By.ID, 'tipue_drop_wrapper')))\n",
    "#time.sleep(1)\n",
    "element = driver.find_element_by_xpath('//div[@id=\"tipue_drop_wrapper\"]/a')\n",
    "element.click()\n",
    "button = driver.find_element_by_xpath('//div[@id=\"cyri-search-button\"]')\n",
    "button.click()\n"
   ]
  },
  {
   "cell_type": "code",
   "execution_count": 22,
   "metadata": {},
   "outputs": [
    {
     "data": {
      "text/plain": [
       "'https://www.systemrequirementslab.com/cyri/requirements/halo-4/20394'"
      ]
     },
     "execution_count": 22,
     "metadata": {},
     "output_type": "execute_result"
    }
   ],
   "source": [
    "driver.current_url"
   ]
  },
  {
   "cell_type": "code",
   "execution_count": 23,
   "metadata": {},
   "outputs": [],
   "source": [
    "def min_rec_systemreq(r):\n",
    "  list_tokenized_min = []\n",
    "  list_tokenized_rec = []\n",
    "  tple = ()\n",
    "  html_home = r.content.decode('utf-8')\n",
    "  parsed = html.fromstring(html_home)\n",
    "  try:\n",
    "    html_list_min = parsed.xpath('//div[@class=\"list-line-height\"]/ul[1]/li/text()')\n",
    "    html_list_rec = parsed.xpath('//div[@class=\"list-line-height\"]/ul[2]/li/text()')\n",
    "    for element in range(len(html_list_min)- 1):\n",
    "      hw, spec = html_list_min[element].split(':')\n",
    "      tple = (hw, spec)\n",
    "      list_tokenized_min.append(tple)\n",
    "      tple = ()\n",
    "    for element in range(len(html_list_rec) - 1):\n",
    "      hw, spec = html_list_rec[element].split(':')\n",
    "      tple = (hw, spec)\n",
    "      list_tokenized_rec.append(tple)\n",
    "      tple = ()\n",
    "  except:\n",
    "    return []\n",
    "  return list_tokenized_min, list_tokenized_rec"
   ]
  },
  {
   "cell_type": "code",
   "execution_count": 24,
   "metadata": {},
   "outputs": [],
   "source": [
    "r = requests.get(driver.current_url)"
   ]
  },
  {
   "cell_type": "code",
   "execution_count": 25,
   "metadata": {},
   "outputs": [
    {
     "name": "stdout",
     "output_type": "stream",
     "text": [
      "Min requirements:  [('CPU', ' Intel Core i7-975 | AMD A12-9800 APU'), ('RAM', ' 2 GB'), ('OS', ' Windows 7'), ('VIDEO CARD', ' GeForce GTS 450 | Radeon R7 Graphics'), ('PIXEL SHADER', ' 5.0'), ('VERTEX SHADER', ' 5.0'), ('FREE DISK SPACE', ' 55 GB')]\n",
      "Recommended:  []\n"
     ]
    }
   ],
   "source": [
    "if r.status_code == 200:\n",
    "  minimun, rec = min_rec_systemreq(r)\n",
    "  print('Min requirements: ', minimun)\n",
    "  print('Recommended: ', rec)"
   ]
  },
  {
   "cell_type": "code",
   "execution_count": 26,
   "metadata": {},
   "outputs": [
    {
     "name": "stdout",
     "output_type": "stream",
     "text": [
      " 2 GB\n"
     ]
    }
   ],
   "source": [
    "print(minimun[1][1])"
   ]
  },
  {
   "cell_type": "code",
   "execution_count": 27,
   "metadata": {},
   "outputs": [],
   "source": [
    "url_amazon = 'https://www.amazon.com.mx/'\n",
    "#driver.get(url_amazon)"
   ]
  },
  {
   "cell_type": "code",
   "execution_count": 28,
   "metadata": {},
   "outputs": [],
   "source": [
    "class WebShop():\n",
    "    def __init__(self, url):\n",
    "        self.url = url\n",
    "    \n",
    "    def get_shop_name(self):\n",
    "        name = re.search('https?://www.([A-Za-z_0-9.-]+).*', self.url) \n",
    "        return name.group(1)\n",
    "    \n",
    "    def go_to_webshop(self, driver):\n",
    "        driver.get(self.url)\n",
    "    \n",
    "    def get_search_bar_xpath(self):\n",
    "        if re.search('amazon.com.mx', self.url):\n",
    "            xpath_search_bar = '/html/body/div[1]/header/div/div[1]/div[2]/div/form/div[2]/div[1]/input'\n",
    "            return xpath_search_bar\n",
    "        else:\n",
    "            return None\n",
    "        \n",
    "    def search_hardware(self, hardware):\n",
    "        if re.search('amazon.com.mx', self.url):\n",
    "            try:\n",
    "                search_bar_elementid = 'twotabsearchtextbox'\n",
    "                inputText = driver.find_element_by_id(search_bar_elementid)\n",
    "                inputText.send_keys(hardware)\n",
    "                inputText.send_keys(u'\\ue007')\n",
    "            except:\n",
    "                return None\n",
    "        else:\n",
    "            pass\n",
    "    def get_first_three_results(self, driver):\n",
    "        xpaths = self.get_xpath_for_shop()\n",
    "        list_of_hardware = []\n",
    "\n",
    "        r = requests.get(driver.current_url)\n",
    "        html_home = r.content.decode('utf-8')\n",
    "        parsed = html.fromstring(html_home)\n",
    "        prices = parsed.xpath(xpaths['prices'])\n",
    "        short_descr = list(parsed.xpath(xpaths['short_descr']))\n",
    "        stars = list(parsed.xpath(xpaths['stars']))\n",
    "        num_reviews = list(parsed.xpath(xpaths['num_reviews']))\n",
    "\n",
    "        return num_reviews\n",
    "    \n",
    "    def get_xpath_for_shop(self):\n",
    "        xpath_dict = {}\n",
    "        if re.search('amazon.com.mx', self.url):\n",
    "            prices = '//div[@id=\"search\"]/div[@class=\"s-desktop-width-max s-desktop-content sg-row\"]//span[@data-component-id=\"7\"]//span[@class=\"a-price\"]/span[@class=\"a-offscreen\"]/text()'\n",
    "            short_description_article = '//div[@id=\"search\"]/div[@class=\"s-desktop-width-max s-desktop-content sg-row\"]//div[@class=\"sg-col-4-of-12 s-result-item s-asin sg-col-4-of-16 sg-col sg-col-4-of-20\"]//div[@class=\"a-section a-spacing-medium\"]//h2[@class=\"a-size-mini a-spacing-none a-color-base s-line-clamp-4\"]/a/span/text()'\n",
    "            stars = '//div[@id=\"search\"]/div[@class=\"s-desktop-width-max s-desktop-content sg-row\"]//div[@class=\"sg-col-4-of-12 s-result-item s-asin sg-col-4-of-16 sg-col sg-col-4-of-20\"]//div[@class=\"a-section a-spacing-medium\"]/div[@class=\"a-section a-spacing-none a-spacing-top-micro\"]/div[@class=\"a-row a-size-small\"]//span[@class=\"a-declarative\"]//span[@class=\"a-icon-alt\"]/text()'\n",
    "            num_reviews = '//div[@id=\"search\"]//div[@class=\"s-main-slot s-result-list s-search-results sg-row\"]//div[@class=\"a-section a-spacing-none a-spacing-top-micro\"]//a[@class=\"a-link-normal\"]//span[@class=\"a-size-base\"]/text()'\n",
    "            xpath_dict = {\n",
    "                'prices': prices,\n",
    "                'short_descr': short_description_article,\n",
    "                'stars': stars,\n",
    "                'num_reviews': num_reviews\n",
    "                         }\n",
    "        else:\n",
    "            pass\n",
    "        return xpath_dict\n",
    "            \n",
    "        "
   ]
  },
  {
   "cell_type": "code",
   "execution_count": 29,
   "metadata": {},
   "outputs": [
    {
     "name": "stdout",
     "output_type": "stream",
     "text": [
      "[]\n"
     ]
    }
   ],
   "source": [
    "webshop = WebShop(url_amazon)\n",
    "webshop.go_to_webshop(driver)\n",
    "webshop.search_hardware(minimun[1][0] + minimun[1][1])\n",
    "print(webshop.get_xpath_for_shop())\n",
    "print(webshop.get_first_three_results(driver))\n",
    "#print(webshop.get_shop_name())"
   ]
  },
  {
   "cell_type": "code",
   "execution_count": 30,
   "metadata": {
    "scrolled": true
   },
   "outputs": [],
   "source": [
    "#print(webshop.get_first_three_results(driver))"
   ]
  },
  {
   "cell_type": "code",
   "execution_count": 31,
   "metadata": {},
   "outputs": [],
   "source": [
    "# spans de precios = '//div[@id=\"search\"]/div[@class=\"s-desktop-width-max s-desktop-content sg-row\"]//span[@data-component-id=\"7\"]//span[@class=\"a-price\"]/span[@class=\"a-offscreen\"]/text()'\n",
    "# short_description_article = '//div[@id=\"search\"]/div[@class=\"s-desktop-width-max s-desktop-content sg-row\"]//div[@class=\"sg-col-4-of-12 s-result-item s-asin sg-col-4-of-16 sg-col sg-col-4-of-20\"]//div[@class=\"a-section a-spacing-medium\"]//h2[@class=\"a-size-mini a-spacing-none a-color-base s-line-clamp-4\"]/a/span/text()'\n",
    "# estrellas = '//div[@id=\"search\"]/div[@class=\"s-desktop-width-max s-desktop-content sg-row\"]//div[@class=\"sg-col-4-of-12 s-result-item s-asin sg-col-4-of-16 sg-col sg-col-4-of-20\"]//div[@class=\"a-section a-spacing-medium\"]/div[@class=\"a-section a-spacing-none a-spacing-top-micro\"]/div[@class=\"a-row a-size-small\"]//span[@class=\"a-declarative\"]//span[@class=\"a-icon-alt\"]/text()'\n",
    "# num_reviews = '//div[@id=\"search\"]//div[@class=\"s-main-slot s-result-list s-search-results sg-row\"]//div[@class=\"a-section a-spacing-none a-spacing-top-micro\"]//a[@class=\"a-link-normal\"]//span[@class=\"a-size-base\"]/text()'"
   ]
  },
  {
   "cell_type": "code",
   "execution_count": 32,
   "metadata": {},
   "outputs": [
    {
     "data": {
      "text/plain": [
       "'notas chingonas:\\nfalta traer numero de reviews, juntar la data (por definir estructura de datos)'"
      ]
     },
     "execution_count": 32,
     "metadata": {},
     "output_type": "execute_result"
    }
   ],
   "source": [
    "\"\"\"notas chingonas:\n",
    "falta traer numero de reviews, juntar la data (por definir estructura de datos)\"\"\""
   ]
  },
  {
   "cell_type": "code",
   "execution_count": null,
   "metadata": {},
   "outputs": [],
   "source": []
  }
 ],
 "metadata": {
  "kernelspec": {
   "display_name": "Python 3",
   "language": "python",
   "name": "python3"
  },
  "language_info": {
   "codemirror_mode": {
    "name": "ipython",
    "version": 3
   },
   "file_extension": ".py",
   "mimetype": "text/x-python",
   "name": "python",
   "nbconvert_exporter": "python",
   "pygments_lexer": "ipython3",
   "version": "3.6.10"
  }
 },
 "nbformat": 4,
 "nbformat_minor": 4
}
