{
  "nbformat": 4,
  "nbformat_minor": 0,
  "metadata": {
    "colab": {
      "name": "PC_Maker_web_scraping.ipynb",
      "provenance": [],
      "collapsed_sections": []
    },
    "kernelspec": {
      "name": "python3",
      "display_name": "Python 3"
    }
  },
  "cells": [
    {
      "cell_type": "markdown",
      "metadata": {
        "id": "wRUQAx7A3tmL"
      },
      "source": [
        "We want to obtain the requeriments of some games, as well as the description.\r\n",
        "\r\n",
        "We'll scraping info from steam."
      ]
    },
    {
      "cell_type": "markdown",
      "metadata": {
        "id": "RdVkfVoE3-of"
      },
      "source": [
        "# Cyberpunk 2077"
      ]
    },
    {
      "cell_type": "code",
      "metadata": {
        "id": "xe1GYdhc3CqD"
      },
      "source": [
        "import requests \r\n",
        "from urllib.request import urlopen\r\n",
        "from lxml import etree"
      ],
      "execution_count": 5,
      "outputs": []
    },
    {
      "cell_type": "code",
      "metadata": {
        "id": "jV1gBKtX42ni"
      },
      "source": [
        "# get html from site and write to local file\r\n",
        "url = \"https://store.steampowered.com/app/1091500/Cyberpunk_2077/\"\r\n",
        "headers = {'Content-Type': 'text/html',}\r\n",
        "response = requests.get(url, headers=headers)\r\n",
        "raw_html = response.text\r\n",
        "html = etree.HTML(raw_html)"
      ],
      "execution_count": 6,
      "outputs": []
    },
    {
      "cell_type": "markdown",
      "metadata": {
        "id": "N1dORT0-EN9p"
      },
      "source": [
        "* Look For Description"
      ]
    },
    {
      "cell_type": "code",
      "metadata": {
        "id": "o2x2MqxW5eQ6"
      },
      "source": [
        "xpath_for_description = \"//div[starts-with(@id, 'game_area_description')]/text()\"\r\n"
      ],
      "execution_count": 7,
      "outputs": []
    },
    {
      "cell_type": "code",
      "metadata": {
        "id": "HNxVNb9x6jE7"
      },
      "source": [
        "description_txt = html.xpath(xpath_for_description)"
      ],
      "execution_count": 8,
      "outputs": []
    },
    {
      "cell_type": "code",
      "metadata": {
        "colab": {
          "base_uri": "https://localhost:8080/"
        },
        "id": "7_bPfpKc6rEL",
        "outputId": "f0d24723-f902-4fc0-86d1-9782cb15d63a"
      },
      "source": [
        "description_txt"
      ],
      "execution_count": 9,
      "outputs": [
        {
          "output_type": "execute_result",
          "data": {
            "text/plain": [
              "['\\r\\n\\t\\t\\t\\t\\t\\t\\t',\n",
              " '\\r\\n\\t\\t\\t\\t\\t\\t\\t',\n",
              " 'Cyberpunk 2077 is an open-world, action-adventure story set in Night City, a megalopolis ',\n",
              " 'obsessed with power, glamour and body modification. You play as V, a mercenary outlaw going after a one-of-a-kind implant that is the key to immortality. You can customize your character’s cyberware, skillset and playstyle, and explore a vast city where the choices you make shape the story and the world around you.',\n",
              " 'Become a cyberpunk, an urban mercenary equipped with cybernetic enhancements and build',\n",
              " 'your legend on the streets of Night City.',\n",
              " 'Enter the massive open world of Night City, a place that sets new standards in terms of visuals, complexity and depth.',\n",
              " 'Take the riskiest job of your life and go after a prototype implant that is the key to immortality.',\n",
              " '\\t\\t\\t\\t\\t\\t']"
            ]
          },
          "metadata": {
            "tags": []
          },
          "execution_count": 9
        }
      ]
    },
    {
      "cell_type": "markdown",
      "metadata": {
        "id": "snPJ19ceER7B"
      },
      "source": [
        "* Look for minimum requierments"
      ]
    },
    {
      "cell_type": "code",
      "metadata": {
        "id": "doS3oLxO7pta"
      },
      "source": [
        "xpath_for_min_req_strongs = \"//div[(@class = 'game_area_sys_req_leftCol')]/ul/ul//strong/text()\"\r\n",
        "xpath_for_min_req = \"//div[(@class = 'game_area_sys_req_leftCol')]/ul/ul/li[strong]/text()\" #With [] we say to look for those li with strong"
      ],
      "execution_count": 32,
      "outputs": []
    },
    {
      "cell_type": "code",
      "metadata": {
        "id": "QQmOK62J8sCC"
      },
      "source": [
        "min_req_strongs = html.xpath(xpath_for_min_req_strongs)\r\n",
        "min_req_txt = html.xpath(xpath_for_min_req)\r\n"
      ],
      "execution_count": 33,
      "outputs": []
    },
    {
      "cell_type": "code",
      "metadata": {
        "colab": {
          "base_uri": "https://localhost:8080/"
        },
        "id": "_4G8VhNDBwrK",
        "outputId": "5fbafc2c-c8a9-49fd-e7d4-3894d1724cad"
      },
      "source": [
        "min_req_strongs"
      ],
      "execution_count": 34,
      "outputs": [
        {
          "output_type": "execute_result",
          "data": {
            "text/plain": [
              "['OS:',\n",
              " 'Processor:',\n",
              " 'Memory:',\n",
              " 'Graphics:',\n",
              " 'DirectX:',\n",
              " 'Storage:',\n",
              " 'Additional Notes:']"
            ]
          },
          "metadata": {
            "tags": []
          },
          "execution_count": 34
        }
      ]
    },
    {
      "cell_type": "code",
      "metadata": {
        "colab": {
          "base_uri": "https://localhost:8080/"
        },
        "id": "LpruvAML8yvy",
        "outputId": "9572946f-9d68-4c72-bdf5-c8fd0b3eaa5b"
      },
      "source": [
        "min_req_txt"
      ],
      "execution_count": 35,
      "outputs": [
        {
          "output_type": "execute_result",
          "data": {
            "text/plain": [
              "[' Windows 7 or 10',\n",
              " ' Intel Core i5-3570K or AMD FX-8310',\n",
              " ' 8 GB RAM',\n",
              " ' NVIDIA GeForce GTX 780 or AMD Radeon RX 470',\n",
              " ' Version 12',\n",
              " ' 70 GB available space',\n",
              " ' In this game you will encounter a variety of visual effects that may provide seizures or loss of consciousness in a minority of people. If you or someone you know experiences any of the above symptoms while playing, stop and seek medical attention immediately.']"
            ]
          },
          "metadata": {
            "tags": []
          },
          "execution_count": 35
        }
      ]
    },
    {
      "cell_type": "markdown",
      "metadata": {
        "id": "fJxVLZMNEedZ"
      },
      "source": [
        "* Look for recommended  requierments"
      ]
    },
    {
      "cell_type": "code",
      "metadata": {
        "id": "5pVSWv-6D-7R"
      },
      "source": [
        "xpath_for_recommended_req_strongs = \"//div[(@class='game_area_sys_req_rightCol')]/ul/ul//strong/text()\"\r\n",
        "xpath_for_recommended_req = \"//div[(@class='game_area_sys_req_rightCol')]/ul/ul/li[strong]/text()\" #With [] we say to look for those li with strong"
      ],
      "execution_count": 36,
      "outputs": []
    },
    {
      "cell_type": "code",
      "metadata": {
        "id": "i5ehb7A7E8oh"
      },
      "source": [
        "recommended_req_strongs = html.xpath(xpath_for_recommended_req_strongs)\r\n",
        "recommended_req_txt = html.xpath(xpath_for_recommended_req)"
      ],
      "execution_count": 37,
      "outputs": []
    },
    {
      "cell_type": "code",
      "metadata": {
        "colab": {
          "base_uri": "https://localhost:8080/"
        },
        "id": "ap9P9Xf8FJzJ",
        "outputId": "7b99ec1b-8685-465a-ee91-a9983746cd6a"
      },
      "source": [
        "recommended_req_strongs"
      ],
      "execution_count": 38,
      "outputs": [
        {
          "output_type": "execute_result",
          "data": {
            "text/plain": [
              "['OS:',\n",
              " 'Processor:',\n",
              " 'Memory:',\n",
              " 'Graphics:',\n",
              " 'DirectX:',\n",
              " 'Storage:',\n",
              " 'Additional Notes:']"
            ]
          },
          "metadata": {
            "tags": []
          },
          "execution_count": 38
        }
      ]
    },
    {
      "cell_type": "code",
      "metadata": {
        "colab": {
          "base_uri": "https://localhost:8080/"
        },
        "id": "fEncK0I5FLyR",
        "outputId": "a768003c-89e1-4f35-f35b-6e0cb30a3579"
      },
      "source": [
        "recommended_req_txt"
      ],
      "execution_count": 39,
      "outputs": [
        {
          "output_type": "execute_result",
          "data": {
            "text/plain": [
              "[' Windows 10',\n",
              " ' Intel Core i7-4790 or AMD Ryzen 3 3200G',\n",
              " ' 12 GB RAM',\n",
              " ' GTX 1060 6GB / GTX 1660 Super or Radeon RX 590',\n",
              " ' Version 12',\n",
              " ' 70 GB available space',\n",
              " ' SSD recommended']"
            ]
          },
          "metadata": {
            "tags": []
          },
          "execution_count": 39
        }
      ]
    },
    {
      "cell_type": "code",
      "metadata": {
        "id": "M0ILe6XujoLK"
      },
      "source": [
        "merged_list_min = [(min_req_strongs[i], min_req_txt[i]) for i in range(0, len(min_req_strongs))]"
      ],
      "execution_count": 45,
      "outputs": []
    },
    {
      "cell_type": "code",
      "metadata": {
        "colab": {
          "base_uri": "https://localhost:8080/"
        },
        "id": "Qo9Zc0erjwjK",
        "outputId": "eda3fa4f-fc6b-4435-e7ab-9c657c81f67f"
      },
      "source": [
        "merged_list_min"
      ],
      "execution_count": 46,
      "outputs": [
        {
          "output_type": "execute_result",
          "data": {
            "text/plain": [
              "[('OS:', ' Windows 7 or 10'),\n",
              " ('Processor:', ' Intel Core i5-3570K or AMD FX-8310'),\n",
              " ('Memory:', ' 8 GB RAM'),\n",
              " ('Graphics:', ' NVIDIA GeForce GTX 780 or AMD Radeon RX 470'),\n",
              " ('DirectX:', ' Version 12'),\n",
              " ('Storage:', ' 70 GB available space'),\n",
              " ('Additional Notes:',\n",
              "  ' In this game you will encounter a variety of visual effects that may provide seizures or loss of consciousness in a minority of people. If you or someone you know experiences any of the above symptoms while playing, stop and seek medical attention immediately.')]"
            ]
          },
          "metadata": {
            "tags": []
          },
          "execution_count": 46
        }
      ]
    },
    {
      "cell_type": "code",
      "metadata": {
        "id": "taWCcrFwknoR"
      },
      "source": [
        "import numpy as np \r\n",
        "merged_arr_min =np.array(merged_list_min)"
      ],
      "execution_count": 51,
      "outputs": []
    },
    {
      "cell_type": "code",
      "metadata": {
        "colab": {
          "base_uri": "https://localhost:8080/"
        },
        "id": "8s1t_EJSk9UB",
        "outputId": "e4ad8c97-235f-4fad-df80-37f08bc33ac4"
      },
      "source": [
        "merged_arr_min.shape"
      ],
      "execution_count": 52,
      "outputs": [
        {
          "output_type": "execute_result",
          "data": {
            "text/plain": [
              "(7, 2)"
            ]
          },
          "metadata": {
            "tags": []
          },
          "execution_count": 52
        }
      ]
    },
    {
      "cell_type": "code",
      "metadata": {
        "id": "cdpCSuqXlEqo"
      },
      "source": [
        "merged_list_rec = [(recommended_req_strongs[i], recommended_req_txt[i]) for i in range(0, len(recommended_req_strongs))  ]\r\n",
        "merged_arr_recommended = np.array(merged_list_rec)"
      ],
      "execution_count": 55,
      "outputs": []
    },
    {
      "cell_type": "code",
      "metadata": {
        "colab": {
          "base_uri": "https://localhost:8080/"
        },
        "id": "zPy-rpqZlZpQ",
        "outputId": "814ad113-567e-4884-a8f1-b0fc3d14913c"
      },
      "source": [
        "merged_arr_recommended"
      ],
      "execution_count": 56,
      "outputs": [
        {
          "output_type": "execute_result",
          "data": {
            "text/plain": [
              "array([['OS:', ' Windows 10'],\n",
              "       ['Processor:', ' Intel Core i7-4790 or AMD Ryzen 3 3200G'],\n",
              "       ['Memory:', ' 12 GB RAM'],\n",
              "       ['Graphics:', ' GTX 1060 6GB / GTX 1660 Super or Radeon RX 590'],\n",
              "       ['DirectX:', ' Version 12'],\n",
              "       ['Storage:', ' 70 GB available space'],\n",
              "       ['Additional Notes:', ' SSD recommended']], dtype='<U47')"
            ]
          },
          "metadata": {
            "tags": []
          },
          "execution_count": 56
        }
      ]
    },
    {
      "cell_type": "code",
      "metadata": {
        "colab": {
          "base_uri": "https://localhost:8080/"
        },
        "id": "E1F9Rwjep70b",
        "outputId": "145820bd-3d8b-4735-b559-2e5584eabff4"
      },
      "source": [
        "!pip install selenium"
      ],
      "execution_count": 60,
      "outputs": [
        {
          "output_type": "stream",
          "text": [
            "Collecting selenium\n",
            "\u001b[?25l  Downloading https://files.pythonhosted.org/packages/80/d6/4294f0b4bce4de0abf13e17190289f9d0613b0a44e5dd6a7f5ca98459853/selenium-3.141.0-py2.py3-none-any.whl (904kB)\n",
            "\u001b[K     |████████████████████████████████| 911kB 12.7MB/s \n",
            "\u001b[?25hRequirement already satisfied: urllib3 in /usr/local/lib/python3.6/dist-packages (from selenium) (1.24.3)\n",
            "Installing collected packages: selenium\n",
            "Successfully installed selenium-3.141.0\n"
          ],
          "name": "stdout"
        }
      ]
    },
    {
      "cell_type": "code",
      "metadata": {
        "colab": {
          "base_uri": "https://localhost:8080/"
        },
        "id": "SKR5sdRhuLd0",
        "outputId": "8926df7c-4bb7-4e54-9b69-8d5cd908a122"
      },
      "source": [
        "!apt install chromium-chromedriver"
      ],
      "execution_count": 71,
      "outputs": [
        {
          "output_type": "stream",
          "text": [
            "Reading package lists... Done\n",
            "Building dependency tree       \n",
            "Reading state information... Done\n",
            "chromium-chromedriver is already the newest version (87.0.4280.66-0ubuntu0.18.04.1).\n",
            "0 upgraded, 0 newly installed, 0 to remove and 14 not upgraded.\n"
          ],
          "name": "stdout"
        }
      ]
    },
    {
      "cell_type": "code",
      "metadata": {
        "id": "RIL0kx7uuKHt"
      },
      "source": [
        "import sys"
      ],
      "execution_count": 72,
      "outputs": []
    },
    {
      "cell_type": "code",
      "metadata": {
        "id": "l0AAq0wMuQYc"
      },
      "source": [
        "sys.path.insert(0,'/usr/lib/chromium-browser/chromedriver')"
      ],
      "execution_count": 73,
      "outputs": []
    },
    {
      "cell_type": "code",
      "metadata": {
        "id": "jeFT7MN1qPlh"
      },
      "source": [
        "from selenium import webdriver\r\n",
        "from selenium.webdriver.common.keys import Keys\r\n",
        "from webdriver_manager.firefox import GeckoDriverManager"
      ],
      "execution_count": 69,
      "outputs": []
    },
    {
      "cell_type": "code",
      "metadata": {
        "id": "jW82mqm0uclM"
      },
      "source": [
        "chrome_options = webdriver.ChromeOptions()\r\n",
        "chrome_options.add_argument('--headless')\r\n",
        "chrome_options.add_argument('--no-sandbox')\r\n",
        "chrome_options.add_argument('--disable-dev-shm-usage')"
      ],
      "execution_count": 76,
      "outputs": []
    },
    {
      "cell_type": "code",
      "metadata": {
        "colab": {
          "base_uri": "https://localhost:8080/"
        },
        "id": "T2npBm2vqXWS",
        "outputId": "f99d24d0-37d6-430d-9657-4d064ca3cd55"
      },
      "source": [
        "driver = webdriver.Chrome('chromedriver',chrome_options=chrome_options)\r\n",
        "driver.get(\"https://store.steampowered.com/\")\r\n",
        "assert \"Steam\" in driver.title #assert is for debugging, if the condition is false, AssertionError is raised. \r\n",
        "#Here we are using it to confirm that the title has \"Steam\".\r\n",
        "\r\n"
      ],
      "execution_count": 144,
      "outputs": [
        {
          "output_type": "stream",
          "text": [
            "/usr/local/lib/python3.6/dist-packages/ipykernel_launcher.py:1: DeprecationWarning: use options instead of chrome_options\n",
            "  \"\"\"Entry point for launching an IPython kernel.\n"
          ],
          "name": "stderr"
        }
      ]
    },
    {
      "cell_type": "code",
      "metadata": {
        "id": "gjnR_Pk9uhic"
      },
      "source": [
        "elem = driver.find_element_by_id(\"store_nav_search_term\")\r\n",
        "elem.clear()"
      ],
      "execution_count": 145,
      "outputs": []
    },
    {
      "cell_type": "code",
      "metadata": {
        "id": "ErSSOOaDvMQ7"
      },
      "source": [
        "elem.send_keys(\"Monster Hunter World\")\r\n",
        "elem.send_keys(Keys.ENTER)"
      ],
      "execution_count": 146,
      "outputs": []
    },
    {
      "cell_type": "code",
      "metadata": {
        "colab": {
          "base_uri": "https://localhost:8080/",
          "height": 35
        },
        "id": "Q0lDkpvGzod1",
        "outputId": "3a17abd0-c0a8-48ea-82f2-e66fb0c257c3"
      },
      "source": [
        "driver.current_url"
      ],
      "execution_count": 147,
      "outputs": [
        {
          "output_type": "execute_result",
          "data": {
            "application/vnd.google.colaboratory.intrinsic+json": {
              "type": "string"
            },
            "text/plain": [
              "'https://store.steampowered.com/search/?term=Monster+Hunter+World'"
            ]
          },
          "metadata": {
            "tags": []
          },
          "execution_count": 147
        }
      ]
    },
    {
      "cell_type": "code",
      "metadata": {
        "id": "5ypW3uDm0Bgl"
      },
      "source": [
        "driver.find_element_by_xpath(\"//div[(@id = 'search_resultsRows')]/a[1]\").click()"
      ],
      "execution_count": 148,
      "outputs": []
    },
    {
      "cell_type": "code",
      "metadata": {
        "colab": {
          "base_uri": "https://localhost:8080/",
          "height": 35
        },
        "id": "f8jRSi0F6s69",
        "outputId": "571ebd08-41f1-4d18-d5d9-17e6caa104f8"
      },
      "source": [
        "driver.current_url"
      ],
      "execution_count": 161,
      "outputs": [
        {
          "output_type": "execute_result",
          "data": {
            "application/vnd.google.colaboratory.intrinsic+json": {
              "type": "string"
            },
            "text/plain": [
              "'https://store.steampowered.com/app/582010/Monster_Hunter_World/'"
            ]
          },
          "metadata": {
            "tags": []
          },
          "execution_count": 161
        }
      ]
    },
    {
      "cell_type": "code",
      "metadata": {
        "id": "q__WLSRB3a7J"
      },
      "source": [
        "requirements = driver.find_elements_by_class_name(\"game_area_sys_req_rightCol\")"
      ],
      "execution_count": 173,
      "outputs": []
    }
  ]
}